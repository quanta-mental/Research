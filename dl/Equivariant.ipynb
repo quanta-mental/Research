{
 "cells": [
  {
   "cell_type": "markdown",
   "metadata": {},
   "source": [
    "# Equivariant Neural Networks\n",
    "\n",
    "The previous chapter {doc}`data` discussed data transformation and network architecture decisions that can be made to make a neural network equivariant with respect to translation, rotation, and permutations. However, those ideas limit the expressibility of our networks and are constructed ad-hoc. Now we will take a more systematic approach to defining equivariances and prove that there is only one layer type that can preserve a given equivariance. The result of this section will be layers that can be equivariant with respect to any transform, even for more esoteric cases like points on a sphere or mirror operations. To achieve this, we will need tools from group theory, representation theory, harmonic analysis, and deep learning.\n",
    "\n",
    "\n",
    "## Do you need equivariance?\n",
    "\n",
    "\n",
    "```{margin}\n",
    "I'm being a bit unfair, these papers have some slightly different application areas (lie vs compact vs finite groups) and differ mostly in their non-linearity. However, it can be hard to discern what is truly different about these papers because of the differences in their derivations.\n",
    "```\n",
    "\n",
    "Before we get too far, let me first try to talk you out of equivariant networks. The math required is advanced, especially because the theory of these is still in flux. There are four papers in the last few years that propose a general theory for equivariant networks and they each take a slightly different approach {cite}`finzi2020generalizing,cohen2019general,kondor2018generalization,lang2020wigner`. It is also easy to make mistakes in implementations due to the complexity of the methods. You also must do implementations (as of 2020) because there are no efficient general implementations for equivariant networks. You will also find that equivariant networks do not beat generally beat state of the art models on many of the tasks they're design for -- although that is now quickly changing at the end of 2020 with recent benchmarks set in point cloud segmentation {cite}`wang2020equivariant`, molecular force field prediction {cite}`batzner2021se3equivariant`, and molecular energy predictions {cite}`klicpera2020directional`.\n",
    "\n",
    "Alternatives to equivariant networks are training and testing augmentation. Both are powerful methods for many domains and are easy to implement. However, they do not work for locally compact symmetry groups (e.g., SO(3)), so you cannot use them for rotationally equivariant data. You can do data transformations like discussed in {doc}`data` to avoid equivariance. So why would you study this chapter? I think these ideas are important and incorporating the equivariant layers into other network architectures can dramatically reduce parameter numbers and increase training efficiency."
   ]
  },
  {
   "cell_type": "markdown",
   "metadata": {},
   "source": [
    "\n",
    "## Running This Notebook\n",
    "\n",
    "\n",
    "Click the &nbsp;<i aria-label=\"Launch interactive content\" class=\"fas fa-rocket\"></i>&nbsp; above to launch this page as an interactive Google Colab. See details below on installing packages, either on your own environment or on Google Colab\n",
    "\n",
    "````{tip} My title\n",
    ":class: dropdown\n",
    "To install packages, execute this code in a new cell\n",
    "\n",
    "```\n",
    "!pip install matplotlib numpy pandas seaborn jax jaxlib\n",
    "```\n",
    "\n",
    "````"
   ]
  },
  {
   "cell_type": "markdown",
   "metadata": {},
   "source": [
    "### Outline\n",
    "\n",
    "We have to lay some mathematical foundations before we can grasp the equations and details of equivariant networks. We'll start with a brief overview of group theory so we can define the principle of equivariance generally. Then we'll show how any equivariance can be enforced in a neural network via a generalization of convolutions. Then we'll visit representation theory to see how to encode groups into matrices.  Then we'll see how these convolutions can be more easily represented using the generalization of Fourier transforms. Finally, we'll see some of the special details when looking at equivariances of permutations. *Note: This is an aspirational outline; this draft doesn't make it quite there.* Throughout this chapter we'll see three examples that capture some of the different settings. Remember, that I am a chemical engineer so that some of this chapter will probably have reckless math. "
   ]
  },
  {
   "cell_type": "markdown",
   "metadata": {},
   "source": [
    "## Group Theory\n",
    "\n",
    "A modern treatment of group theory can be found in {cite}`zee2016`. You can watch a short fun primer video on group theory from [3Blue1Brown here](https://www.youtube.com/watch?v=mH0oCDa74tE).\n",
    "\n",
    "A group is a general object in mathematics. A group is a set of elements that can be combined in a binary operation whose output is another member of the group. The most common example are the integers. If you combine two integers in a binary operation, the output is another integer. Of course, it depends on the operation ($1 \\div 2$ does not give an integer), so specifically consider addition. Integers are not the example we care about though. We're interested in groups of **transformations** that move points in a space. Operations like rotation, scaling, mirroring, or translating of single points. As you read about groups here, remember that the elements of the groups are *not* numbers or points. The group elements are transformations that act on points in the space. Notice I'm being a bit nebulous on what the space is for now. Let's first define a group: \n",
    "\n",
    "```{admonition} Group Definition\n",
    "A group $G$ is a set of elements (e.g., $\\{a, b, c, i, e\\}$) equipped with a binary operation ($a\\cdot{}b = c$) whose output is another group element and the following conditions are satisfied:\n",
    "\n",
    "1. **Closure** The output of the binary operation is always a member of the group\n",
    "2. **Associativity** $(a\\cdot{}b)\\cdot{}c = a\\cdot{}(b\\cdot{}c)$\n",
    "3. **Identity** There is a single identity element $e$ such that $ex = x \\forall x \\in G$\n",
    "4. **Inverse** There exists exactly one inverse element $i$ for each $x$ such that $xi = e$\n",
    "```\n",
    "\n",
    "This is quite a bit of nice structure. We always have an inverse available. Applying the binary operations never accidentally leaves our group. One important property that is missing from this list is **commutativity**. In general, a group is not commutative so that $a\\cdot{}b \\neq b\\cdot{}a$. If the group does have this extra property, we call the group **abelian**. Another detail is how big the set is. It can indeed be infinite, which is why the integers or all possible rotations of a sphere can be represented as a group. One notational convenience we'll make is that the binary operation \"$\\cdot{}$\" will just be referred to as multiplication. The number of elements in a group $|G|$ is known as the **order**.\n",
    "\n",
    "```{margin}\n",
    "If you multiply two transforms $a\\cdot{}b$, we always apply $b$ first and then $a$. This is important to remember for non-commutative groups (non-abelian). \n",
    "```\n",
    "\n",
    "The point of introducing the groups is so that they can transforms elements of our space. This is done through a **group action**\n",
    "\n",
    "```{admonition} Group Action\n",
    "A group action $\\phi(g, v)$ is a mapping from a group $G$ and a space $\\mathcal{X}$ to the space $\\mathcal{X}$:\n",
    "\n",
    "\\begin{equation}\n",
    "\\phi: G\\times \\mathcal{X}\\rightarrow \\mathcal{X}\n",
    "\\end{equation}\n",
    "```\n",
    "\n",
    "So a group action takes in two arguments (binary): a group element and a point in a space $\\mathcal{X}$ and transforms the point to a new one: $\\phi(g, x_0) = x_1$. This is just a more systematic way of saying it transforms a point. The group action is neither unique to the space nor group. Often we'll omit the function notation for the group action and just write $gx = x'$. "
   ]
  },
  {
   "cell_type": "markdown",
   "metadata": {},
   "source": [
    "Let's introduce our three example groups that we'll refer to throughout this chapter.\n",
    "\n",
    "\n",
    "### ⬡ Finite Group $Z_6$ \n",
    "\n",
    "The first group is about rotations of a hexagon {glue:}`hex-6`. Our basic group member will be rotating the hexagon enough to shift all the vertices: {glue:}`hex-0` $\\rightarrow$ {glue:}`hex-1`. Notice I've colored the vertices and added a line so we can easily distinguish the orientation of the hexagon. Remember the hexagon, its colors, and if it is actually symmetric have nothing to do with the group. *The group elements are transformations we apply to the hexagon*.\n",
    "\n",
    "One group action for this example can use modular arithmetic. If we represent a point in our space as $\\left\\{0,\\ldots, 5\\right\\}$ then the rotation transformation is $x' = x + 1 \\;(\\bmod\\; 6)$. For example, if we start at $5$ and rotate, we get back to $0$. \n",
    "\n",
    "Our group must contain our rotation transformation $r$ and the identity: $\\{e, r\\}$. This set is not closed though: rotating twice $r\\cdot{}r$ {glue:}`hex-0` $\\rightarrow$ {glue:}`hex-1` $\\rightarrow$ {glue:}`hex-2` gives a new group element $r^2$. To close the group we need to have $\\{e, r, r^2, r^3, r^4, r^5\\}$. \n",
    "\n",
    "Is this closed? Consider rotating twice and then five times $r^2\\cdot{}r^5$ {glue:}`hex-0` $\\rightarrow$ {glue:}`hex-2` $\\rightarrow$ {glue:}`hex-1` You can see that this is the same as $r$, so $r^2\\cdot{}r^5 = r$. What about the inverses element? The inverse of $r$ is $r^5$. $r\\cdot{}r^5 = e$. You can indeed see that each element has an inverse ($e$ is its own inverse).\n",
    "\n",
    "In general, we can write out the group as a multiplication table that conveys all group elements and defines the output of all binary outputs:\n",
    "\n",
    "$$\n",
    "\\begin{array}{l|cccccr}\n",
    "& e & r & r^2 & r^3 & r^4 & r^5\\\\\n",
    "\\hline\n",
    "e & e & r & r^2 & r^3 & r^4 & r^5\\\\\n",
    "r & r & r^2 & r^3 & r^4 & r^5 & e\\\\\n",
    "r^2 & r^2 & r^3 & r^4 & r^5 & e & r\\\\\n",
    "r^3 & r^3 & r^4 & r^5 & e & r & r^2\\\\\n",
    "r^4 & r^4 & r^5 & e & r & r^2 & r^3\\\\\n",
    "r^5 & r^5 & e & r & r^2 & r^3 & r^4\\\\\n",
    "\\end{array}\n",
    "$$\n",
    "\n",
    "You can also see that the group is abelian (commutative). For example, $r\\cdot{}r^3 = r^3\\cdot{}r$. \n",
    "\n",
    "This group is an example of a **cyclic group** and is isomorphic (same transofmrations, but operates on different objects) to integers modulo 6. Meaning, you could view rotation $r^n$ as operating on integers $(x + n) \\textrm{mod}\\, 6$. Cyclic groups are written as $Z_n$, so this group is $Z_6$. \n",
    "\n",
    "\n",
    "### ▩ p4m\n",
    " \n",
    "```{margin}\n",
    "p4m strictly speaking only includes integer translations but many of the principles apply for continuous infinte groups (locally compact) and integer (countably) infinite groups\n",
    "```\n",
    "\n",
    "The second group contains translation, 90° rotations, and  horizontal/vertical mirroring. We're now operating on real numbers $x,y$, so we're in $\\mathbb{R}^2$. Let's ignore the translation for now and just consider mirroring ($s$) and rotation by 90° ($r$) about the origin. What powers of $r$ and $s$ do we need to have a closed group? Considering rotations alone first, like last time we should only need up to $r^3$. Here are the rotations visually: {glue:}`quad-0-0`, {glue:}`quad-1-0`, {glue:}`quad-2-0`, {glue:}`quad-3-0` What about mirroring on horizontal/vertical? Mirroring along the horizontal axis: {glue:}`quad-0-0` $\\rightarrow$ {glue:}`quad-2-1` is actually the same as rotating twice and then mirroring along the vertical. In fact, you only need to have mirroing along one axis. We'll choose the vertical axis by convention and denote that as $s$.\n",
    "\n",
    "We can build the group action piece by piece. The group action for rotation can be represented as a 2D rotation matrix acting a point $(x, y)$:\n",
    "\n",
    "$$\n",
    "\\left[\\begin{array}{lr}\n",
    "\\cos\\frac{k2\\pi}{4} & -\\sin\\frac{k2\\pi}{4}\\\\\n",
    "\\sin\\frac{k2\\pi}{4} & \\cos\\frac{k2\\pi}{4}\\\\\n",
    "\\end{array}\\right]\n",
    "\\left[\\begin{array}{c}\n",
    "x\\\\\n",
    "y\\\\\n",
    "\\end{array}\\right]\n",
    ",\\, k \\in \\left\\{0, 1, 2, 3\\right\\}\n",
    "$$\n",
    "\n",
    "where $k$ can allow us to do two rotations at once ($k = 2$) or the identity ($k = 0$). The vertical axis mirror action can be represented by \n",
    "\n",
    "$$\n",
    "\\left[\\begin{array}{lr}\n",
    "1 & 0\\\\\n",
    "0 & -1\\\\\n",
    "\\end{array}\\right]\n",
    "\\left[\\begin{array}{c}\n",
    "x\\\\\n",
    "y\\\\\n",
    "\\end{array}\\right]\n",
    "$$\n",
    "\n",
    "These two group actions can be ordered to correctly represent rotation then mirroring or vice-versa.\n",
    "\n",
    "\n",
    "Now is this closed with the group elements $\\{e, r, r^2, r^3, s\\}$? Visually we have  {glue:}`quad-0-0`, {glue:}`quad-1-0`, {glue:}`quad-2-0`, {glue:}`quad-3-0`, {glue:}`quad-0-1`? No. Consider $r^2\\cdot{}s$ {glue:}`quad-0-0` $\\rightarrow$ {glue:}`quad-0-1` $\\rightarrow$ {glue:}`quad-2-1` which is not an element. To close the group, we need $\\{e, r, r^2, r^3, s, rs, r^2s, r^3s\\}$. The multiplication table (which defines the elements too) is:\n",
    "\n",
    "$$\n",
    "\\begin{array}{l|cccccccr}\n",
    "& e & r & r^2 & r^3 & s & rs & r^2s & r^3s\\\\\n",
    "\\hline\n",
    "e & e & r & r^2 & r^3 & s & rs & rs^2 & rs^3\\\\\n",
    "r & r & r^2 & r^3 & e & rs & r^2s & r^3s & s\\\\\n",
    "r^2 & r^3 & e & r & r^2 & r^2s & r^3s & s & rs\\\\\n",
    "r^3 & e & r & r^2 & r^3 & r^3s & s & rs & r^2s\\\\\n",
    "s & s & r^3s & r^2s & rs & e & r^3 & r^2 & r\\\\\n",
    "rs & rs & s & r^3s & r^2s & r & e & r^3 & r^2\\\\\n",
    "r^2s & r^2s & rs & s & r^3s & r^2 & r & e & r^3\\\\\n",
    "r^3s & r^3s & r^2s & rs & s & r^3 & r^2 & r & e\\\\\n",
    "\\end{array}\n",
    "$$\n",
    "\n",
    "As you can see from the  table, the group is closed. Remember, elements like $rs$ are not a binary operation. They are group elements. We can also see that the group is not commutative. $r\\cdot{}s$ is {glue:}`quad-0-0` $\\rightarrow$ {glue:}`quad-0-1` $\\rightarrow$ {glue:}`quad-1-1`, so $r\\cdot{}s = rs$ as expected. However, $s\\cdot{}r$ is {glue:}`quad-0-0` $\\rightarrow$ {glue:}`quad-1-0` $\\rightarrow$ {glue:}`quad-3-1`, which is the group element $r^3s$.\n",
    "\n",
    "We can also read the inverses off the table. For example, the inverse of $r$ is the column which gives the identity element: $r^3$. This group is known as the dihedral group 4 $D_4$. It has order 8. \n",
    "\n",
    "Now consider the translation group elements. For simplicity, let's only consider integer translations. We can label them as $t_{w,h}$. So $t_{3,4}$ means translate by $x + 3$ and $y + 4$. Is this a proper group? Certainly it associative, there is an identity $t_{0,0}$ and an inverse for each element $t_{-x, -y}$. What about closure? Yes, since translating twice is equivalent to one larger translation: $t_{w,h}\\cdot{}t_{w', h'} = t_{w + w', h + h'}$. This expression also shows group action for translation. \n",
    "\n",
    "What about when we combine with our other elements from the $D_4$ group? Consider the product $r\\cdot{}t_{3,4}$. This means translating by $(3,4)$ and then rotating by 90° about the origin. If you consider this acting on a single point $(0,0)$, you could get $(0,0) \\rightarrow (3,4) \\rightarrow (-3,4)$. What element of our group would this represent? At first it seems like it could be $t_{-3,4}$. However, $t_{-3,4}$ would only work specifically for starting at $(0,0)$. If you started at $(1,1)$, you would get to $(-4,5)$ with $r\\cdot{}t_{3,4}$ and $(-2,5)$ with $t_{-3,4}$. To be correct for *any point*, we need a different group element. So the product $r\\cdot{}t_{3,4}$ actually cannot be a product but instead must be a group element. In fact, our new combined group is just going to be $ab$ where $a$ is an element from $D_4$ and $b$ is a translation. Thus $r\\cdot{}t_{3,4} = rt_{3,4}$. \n",
    "\n",
    "Combing these two groups, the translation and $D_4$, is an example of a **semidirect product**. A semidirect product just means that we create a new group by combining all possible group elements. There is some machinery for this, like the identity element in our new group is something like $et_{0,0}$, and it has some other structure. It is called semidirect, instead of direct, because we can actually mix our group elements. The elements both act on points in the same space ($x,y$ plane), so this make sense. Another condition is that we can only have a semidirect product when one subgroup is normal and the translation subgroup is the normal subgroup. It is coincidentally abelian, but these two properties are not always identical. This semidirect product group is called p4m.\n",
    "\n",
    "Below, is an optional section that formalizes the idea of combining these two groups into one larger group.\n",
    "\n",
    "\n",
    "```{admonition} Normal Subgroup\n",
    "A normal subgroup is a group of elements $n$ from the group $G$ called $N$. Each $n \\in N$ should have the property that $g\\cdot{}n\\cdot{}g^{-1}$ gives an element in $N$ for any $g$.  \n",
    "```\n",
    "\n",
    "This does not mean $g\\cdot{}n\\cdot{}g^{-1} = n$, but instead that $g\\cdot{}n\\cdot{}g^{-1} = n'$ where $n'$ is some other element in $N$. For example, in p4m the translations form a normal subgroup. Rotating, translating, then doing the inverse of the rotation is equivalent to some translation. Notice that $D_4$ is not a normal subgroup of p4m. If you do an inverse translation, rotate, then do a translation you may not have something equivalent to a rotation. It may be strange that we're talking about the group p4m when we haven't yet described how it's defined (identity, inverse, binary op). We'll do that with the semidirect product and then we could go back and verify that the translations are a normal subgroup more rigorously. I do not know the exact connection, but it seems that normal subgroups are typically abelian. \n",
    "\n",
    "```{admonition} Semidirect Product\n",
    "Given a normal subgroup of $G$ called $N$ and a subrgoup $H$, we can define $G$ using the semidirect product. Each element in $G$ is a tuple of two elements in $N, H$ written as $(n, h)$. The identity is $(e_n, e_h)$ and the binary operation is:\n",
    "\n",
    "\\begin{equation}\n",
    "(n_1, h_1) \\cdot (n_2, h_2) = (n_1\\cdot\\phi(h_1)(n_1), h_1\\cdot{}h_2)\n",
    "\\end{equation}\n",
    "\n",
    "where $\\phi(h)(n)$ is the conjugation of $n$ $\\phi(h)(n) = h\\cdot{}n\\cdot{}h^{-1}$. When a transform $(n,h)$ is applied, we follow the normal convention that $h$ is applied first followed by $n$. \n",
    "```\n",
    "\n",
    "We are technically doing an outter semidirect product: combining them under the assumption that both $D_4$ and $T$ are part of a larger group which contains both. This is a bit of a semantic detail, but they are actually both part of $p4m$ and a larger group called the affine group which includes translation, rotation, shear, translation, mirror, and scale operations on points. You could also argue they are part of groups which can be represented by 3x3 invertible matrices. Thus, you can combine these and get something that is still smaller than their larger containing group ($p4m$ is smaller than all affine transformations).\n",
    "\n",
    "One consequence of the semidirect product is that if you have a group element $(n,h)$ but want to instead apply $n$ first (instead of $h$), you can use the binary operation:\n",
    "\n",
    "\n",
    "\\begin{equation}\n",
    "(e_n, h) \\cdot (n, e_h) = (e_n\\cdot\\phi(h)(n), h\\cdot{}e_h) = (\\phi(h)(n), h)\n",
    "\\end{equation}\n",
    "\n",
    "\n",
    "so $\\phi(h)(n)$ somehow captures the effect of switching the order applying elements from $H$ and $N$. In our case, this means swapping the order of rotation/mirroring and translation. \n",
    "\n",
    "To show what effect the semidirect product has in p4m, we can clean-up our example above about $r\\cdot{}t_{3,4}$. We should write the first element of this binary product $r$ as a tuple of group elements: one from the $D_4$ and one from the translations. Since there is no translation for $r$, we use the identity. Thus we write $r$ as $(t_{0,0}, r)$ in our semidirect product group p4m. Note that the normal subgroup comes first (applied last) by convention. Similarly, $t_{3,4}$ is written as $(t_{3,4}, e)$. Our equation becomes:\n",
    "\n",
    "$$\n",
    "(t_{0,0}, r)\\cdot(t_{3,4}, e) = (t_{0,0}\\cdot\\phi(r)(t_{3,4}), r\\cdot{}e) = (t_{0,0}\\cdot\\phi(r)(t_{3,4}), r)\n",
    "$$\n",
    "\n",
    "where $\\phi$ is the automorphism that distinguishes a semidirect product from a direct product. The direct product has $\\phi(h)(n) = n$ so that the binary operation for the direct product group is just the element-wise binary products. $\\phi(h)(n) = hnh^{-1}$ for semidirect products. In our equation, this means $\\phi(r)(t_{3,4}) = r\\cdot{}t_{3,4}\\cdot{}r^3$. Substituting this and using the fact that both groups have the same binary operation (matrix multiplication, as we'll see shortly):\n",
    "\n",
    "$$\n",
    "(t_{3,4}\\phi(r)(t_{3,4}), r) = (r\\cdot{}t_{3,4}\\cdot{}r^3, r) = r\\cdot{}t_{3,4}\\cdot{}r^3\\cdot r = r\\cdot{}t_{3,4}\n",
    "$$\n",
    "\n",
    "Thus we've proved that translating by $3,4$ followed by rotating can be expressed as $r\\cdot{}t_{3,4}$, which seems like a lot of work for an obvious result. I won't cover the semidirect product of the group action, but we'll see that we do not necessarily need to build a group action encapsulating both translation and rotation/mirroring. \n",
    "\n",
    "\n",
    "\n",
    "###  ⚽ SO(3) Lie Group\n",
    "\n",
    "SO(3) is the group for analyzing 3D point clouds like trajectories or crystal structures (with no other symmetries). SO(3) is the group of all rotations about the origin in 3D. The group is non-abelian because rotations in 3D are not commutative. The group order is infinite, because you can rotate in this group by any angle (or sets of angles). If you are interested in allowing translations, you can use SE(3) which is the semidirect product of SO(3) and the translation group (like p4m), which is a normal subgroup. \n",
    "\n",
    "The SO(3) name is a bit strange. SO stands for \"special orthogonal\" which are two properties of square matrices. In this case, the matrices are $3\\times3$. Orthogonal  means the columns sum to one and special means the determinant is 1. Interestingly, all rotations in 3D around the origin are also the SO(3) matrices. \n",
    "\n",
    "One detail is that since we're rotating (no scale or translation) *our points will all be on a sphere*. We cannot move the radius. By convention then we'll have a radius 1. The group action is the product of 3 3D rotation matrices $R_z(\\alpha)R_y(\\beta)R_z(\\gamma)$ where $\\alpha,\\gamma \\in [0, 2\\pi], \\beta \\in [0, \\pi]$ and\n",
    "\n",
    "$$\n",
    "R_z(\\theta) = \\left[\\begin{array}{lcr}\n",
    "\\cos\\theta & -\\sin\\theta & 0\\\\\n",
    "\\sin\\theta & \\cos\\theta & 0\\\\\n",
    "0 & 0 & 1\\\\\n",
    "\\end{array}\\right]\n",
    "$$\n",
    "\n",
    "$$\n",
    "R_y(\\theta) = \\left[\\begin{array}{lcr}\n",
    "\\cos\\theta & 0 & \\sin\\theta \\\\\n",
    "0 & 1 & 0\\\\\n",
    "-\\sin\\theta &  0 & \\cos\\theta\\\\\n",
    "\\end{array}\\right]\n",
    "$$"
   ]
  },
  {
   "cell_type": "markdown",
   "metadata": {},
   "source": [
    "### Groups on Spaces\n",
    "\n",
    "We've defined transforms and their relationships to one another via group theory. Now we need to actually connect the transforms to a space. It is helpful to think about the space as Euclidean with a concept of distance and coordinates, but we'll see that this is not required. Our space could be vertices on a graph or integers or classes. There are *some* requirements though. The first is that our space must be **homogeneous**. Homogeneous means that from any point in our space $x$ we can reach any other point with a transform $g$ from our group $G$. The second requirement is that if our group is infinite, the space must **locally compact**. This is a concept from topology and we won't really ever be troubled by it. Most spaces we'll see in chemistry or materials science (Euclidean spaces) are locally compact. This doesn't matter for finite groups, so we can use non-compact spaces. If the group transforms are further smooth and have smooth inverses, the group (and associated space) are called a **lie group**. \n",
    "\n",
    "```{margin}\n",
    "The lie group definition is a side-note, it has nothing to do with our analysis.\n",
    "```\n",
    "\n",
    "```{tabbed} ⬡ Finite Group $Z_6$ \n",
    "\n",
    "The space is homogeneous because our group includes \"compound\" rotations like $r^4$. This is a finite group, so we do not require the space to be compact. \n",
    "\n",
    "```\n",
    "\n",
    "```{tabbed} ▩ Locally Compact p4m\n",
    "\n",
    "The space is homogeneous since we can use a translation to get to any other point. The space is locally compact because we are in 2D Euclidean geometry. It is not a lie group, because the dihedral operations (rotate/mirror) are not smooth. Or at least I don't think so, I don't know enough about topology. \n",
    "\n",
    "```\n",
    "\n",
    "```{tabbed} ⚽ SO(3) Lie Group\n",
    "\n",
    "The space is homogeneous because we restrict ourselves to being on the sphere. The space is locally compact because we are in 3D Euclidean geometry. This is a lie group because the transformations are continuous and smooth. \n",
    "\n",
    "```"
   ]
  },
  {
   "cell_type": "markdown",
   "metadata": {},
   "source": [
    "This may seem like a ton of work. We could have just started with $xyz$ coordinates and rotation matrices. Please continue to wait though, we're about to see something incredible.\n",
    "\n",
    "## Equivariance Definition\n",
    "\n",
    "You should be thinking now about how we can define equivariance using our new groups. That's where we're headed. We need to do a bit of work now to \"lift\" neural networks and our features into the framework we're building. First, in {doc}`data` we defined our features as being composed of tuples $(\\vec{r}_i, \\vec{x}_i)$ where $\\vec{r}_i$ is a spatial point and $\\vec{x}_i$ are the features at that point. Let's now view these input data as functions, defined as $f(\\vec{r}) = \\vec{x}$ and assume if a point $\\vec{r}'$ isn't in our training data then $f(\\vec{r}') = \\vec{0}$. More formally, our training data is a function $f:\\mathcal{X} \\rightarrow \\mathbb{R}^n$ that maps from our homogeneous space $\\mathcal{x}$ to real vector (or complex vectors) of dimension $n$. \n",
    "\n",
    "We have promoted our data into a function and now a neural network can no longer be just function since its input is a function. Our neural network will be also promoted to an **linear map**, which has an input of a function and an output of a function. Formally, our network $\\psi: f(\\mathcal{X}) \\rightarrow f'(\\mathcal{X})$. Notice the input and output spaces of the functions should be the same (we cannot switch from 2D to 3D). Linear maps are also called **operators**, depending on which branch of mathematics you're in.\n",
    "\n",
    "The last piece of equivariance is to promote our group elements, which transform points, to work on functions.\n",
    "\n",
    "```{admonition} G-Function Transform Definition\n",
    "An element $g$ of group $G$ on the homogeneous space $\\mathcal{X}$ can act on a function $f:\\mathcal{X}\\rightarrow \\mathbb{R}^n$ via the group transform linear map $\\mathbb{T}_g: f(\\mathcal{X}) \\rightarrow f'(\\mathcal{X})$ defined as \n",
    "\n",
    "\\begin{equation}\n",
    "f'(gx) = f(x) \\Rightarrow f'(x) = f(g^{-1}x)\n",
    "\\end{equation}\n",
    "```\n",
    "\n",
    "This definition takes a moment to think about. Consider a translation of an image. You want to move an image to the left by 10 pixels, so $g = t_{10,0}$. The image is defined by the function $f(x,y) = (r, g, b)$, where $r,g,b$ is the color. We want $T_g f(x, y)$. Without knowing about groups, you can intuit that translating can be done by creating a new function $f'(x', y') = f(x - 10, y)$. Notice that the inverse of $g^{-1} = t_{-10, 0}$ acts on the points, not $g$. Recall that a group requires there to be an inverse for any group element.\n",
    "\n",
    "Now we have all the pieces to define an equivariant neural network:\n",
    "\n",
    "```{admonition} Equivariant Neural Network Definition\n",
    "Given a group $G$ on a homogeneous space $\\mathcal{X}$, a G-covariant neural network is linear map $\\psi: f(\\mathcal{X}) \\rightarrow f'(\\mathcal{X})$ that has the property{cite}`kondor2018generalization`:\n",
    "\n",
    "\\begin{equation}\n",
    "\\psi\\left[\\mathbb{T}_g f(x)\\right] = \\mathbb{T}_{g'}\\psi\\left[f(x)\\right]\\;\\forall\\, f\n",
    "\\end{equation}\n",
    "\n",
    "If $g = g'$, the $\\psi$ is a G-equivariant neural network. If $g = g' = e$, the identity, then $\\psi$ is a G-invariant neural network.\n",
    "```\n",
    "\n",
    "Note **covariant** is a rarely used term; I only include it to distinguish between the general case of $g \\neq g'$ and the much more common $g = g'$ equivariant case. The definition means that we get the same output if we transform the input function to the neural network or transform the output (in the equivariant case). In a specific example, if we rotate the input by 90 degrees, that's the same result as rotating the output by 90 degrees. Take a moment to ensure that matches your idea of what equivariance means. After all this math, we've generalized equivariance to arbitrary spaces and groups.\n"
   ]
  },
  {
   "cell_type": "markdown",
   "metadata": {},
   "source": [
    "## G-Equivariant Convolution Layers\n",
    "\n",
    "Kondor and Trivedi showed that there is *only one* way to make a G-equivariant neural network:\n",
    "\n",
    "```{admonition} G-Equivariant Convolution Theorem\n",
    "A neural network layer (linear map) $\\psi$ is G-equivariant if and only if its form is a convolution operator $*$ \n",
    "\n",
    "\\begin{equation}\n",
    "\\label{discconv}\n",
    "\\psi(f) = (f * \\phi)(u) = \\sum_{g \\in G} f\\uparrow^G\\left(ug^{-1}\\right)\\phi\\uparrow^G\\left(g\\right)\n",
    "\\end{equation}\n",
    "\n",
    "where $f: H \\rightarrow \\mathbb{R}^n$ and $\\phi: H' \\rightarrow \\mathbb{R}^n$ are functions of quotient spaces $H$ and $H'$. If the group $G$ is locally compact (infinite elements), then the convolution operator is\n",
    "\n",
    "\\begin{equation}\n",
    "\\label{cont-conv}\n",
    "\\psi(f) = (f * \\phi)(u) = \\int_G f\\uparrow^G\\left(ug^{-1}\\right)\\phi\\uparrow^G\\left(g\\right)\\,d\\mu(g)\n",
    "\\end{equation}\n",
    "\n",
    "where $\\mu$ is the group Haar measure. \n",
    "\n",
    "```\n",
    "```{margin}\n",
    "This is one of the strongest theorems in deep learning. It says there is only one way to achieve equivariance in a neural network. This may seem counter-intuitive since there are many competing approaches to convolutions. These other approaches are actually equivalent to a convolution, just it can be hard to notice. \n",
    "```\n",
    "\n",
    "As you can see from the theorem, we must introduces more new concepts. The first important detail is that all our functions are over our group elements (technically the quotient space $G / H_0$), not our space. This should seem strange. We will easily fix this because there is a (bijective) way to assign one group element to each point in the space. The second detail is the $f \\uparrow^G$. The order of the group $G$ is greater than or equal to the number of points in our space, so if the function is defined on our space, we must \"lift\" it up to the group $G$ which has more elements. The last detail is the point about **quotient spaces**. Quotient spaces are how we cut-up our group $G$ into subgroups so that one has the same order as the number of points in our space. Below I detail these new concepts just enough so that we can implement and understand these convolutions.\n",
    "\n",
    "## Converting between Space and Group\n",
    "\n",
    "Let's see how we can convert between functions on the space $\\mathcal{X}$ and functions on the group $G$. $|G| \\geq |\\mathcal{X}|$ (because the space is homogeneous) so it is rare that we can uniquely replace each point in space with a group in $G$. Instead, we will construct a partitioning of $G$ into $|\\mathcal{X}|$ sets called a quotient space $G / H$ such that $|G / H| = |\\mathcal{X}|$. It turns out, there is a well-studied approach to arranging elements in a group called **costets**. Constructing cosets is a two-step process. First we define a subgroup $H$. A **subgroup** means it is itself a group; it has identities and inverses. We cannot accidentally leave $H$, $h_1\\cdot{} h_2 \\in H$. For example, translation transformations are a subgroup because you cannot accidentally create a rotation when combining two translations. \n",
    "\n",
    "```{margin}\n",
    "This process of constructing cosets and then using that to lift our function is closely related to the process of finding an induced representation on $G$ via a representation on $H$.\n",
    "```\n",
    "\n",
    "After constructing a subgroup $H$, we can apply an element $g$ to every element in $H$, written as \n",
    "\n",
    "\\begin{equation}\n",
    "gH = \\left\\{g \\cdot h \\forall h \\in H\\right\\}\n",
    "\\end{equation}\n",
    "\n",
    "If this sounds strange, wait for an example. $gH$ is called a **left coset**. We mention the direction because $G$'s binary operation may not be commutative (non-abelian). What happens if $g$ is in $H$? No problem; $H$ is a group so applying an element to every element in $H$ just gives back $H$ (i.e. $hH = H$). Cosets are not groups, they are definitely not closed or have inverses. What's the point of making all these cosets? Remember our goal is to partition $G$ into a bunch of smaller sets so that we have one for each point in $\\mathcal{X}$. Constructing cosets partitions $G$ for sure, but do we get enough? Could we accidentally have overlaps between cosets, where $g_1H$ and $g_2H$ contain the same elements? \n",
    "\n",
    "```{margin}\n",
    "If your group involves rotations, make life easy on yourself and always choose $x_0$ as the origin (or center of the rotations). \n",
    "```\n",
    "\n",
    "It turns out if our space is homogeneous we can construct our cosets in a special way so that we have exactly one coset for each point in the space $\\mathcal{X}$. To get our group, we pick an arbitrary point in the space $x_0$. Often this will be the origin. Then we choose our subrgoup $H$ to be all group elements that leave $x_0$ unchanged.  This is called a stabilizer subgroup $H_0$ and is defined as \n",
    "\n",
    "\\begin{equation}\n",
    "H_0 = \\left\\{ g \\in G \\,\\textrm{such that}\\, g x_0 = x_0\\right\\}\n",
    "\\end{equation}\n",
    "\n",
    "We will not prove that this is a group itself. This defines our subgroup. Here's the remarkable thing: we will have exactly enough cosets with this stabilizer as there are points in $\\mathcal{X}$. However, multiple $g's$ will give the same coset (as expected, since $|G| > |\\mathcal{X}|$).\n",
    "\n",
    "```{margin} This set of all cosets is itself a group and it is written as $G / H_0$. The fact that the cosets is a group is just weird. What is the identity coset? How do you define binary operations on cosets? It turns out we do not need these items but it is fascinating.\n",
    "```\n",
    "\n",
    "\n",
    "Now comes the details, how do we match-up points in $\\mathcal{X}$ to the cosets? We know that the space is homogeneous  so each point in $x$ can be reached from our arbitrary origin by a group element $gx_0 = x$. That's one way to connect points to group elements, but which coset will $g$ be in? There also may be multiple $g$s that satisfy the equation. It turns out that all the group elements that satisfy the equation will be in the same coset. The reason why is that $g\\cdot h x_0 = gx_0$ because all elements $h$ of the stabilizer group do not move $x_0$. Quite elegant. \n",
    "\n",
    "How do we find which coset we need? Since the identity $e$ is in $H_0$ (by definition), the coset $gH_0$ will contain $g$ itself. Thus, we can convert a function $f(x)$ from the space to be a function on the quotient space $f(g)$ via what we call **lifting**:\n",
    "\n",
    "\\begin{equation}\n",
    "f\\uparrow^G(g) = f(gx_0)\n",
    "\\end{equation}\n",
    "\n",
    "One point to note is that you can plug any element $g$ from the group into $f\\uparrow^G(g)$ but it is bijective only over $G / H$ (the cosets). Your null space will be the whole subgroup $H_0$.\n",
    "\n",
    "```{margin}\n",
    "A coset can have multiple labels in this system. $g_1H_0$ and $g_2H_0$ could be the same coset. There are no consequences of this, but just be aware. \n",
    "```\n",
    "\n",
    "Going the opposite, from a function on the group to the space, is called **projecting** because it will have a smaller domain. We can use the same process as above. We create the quotient space and then just take the average over a single coset to get a single value for the point $x$:\n",
    "\n",
    "\\begin{equation}\n",
    "f\\downarrow_\\mathcal{X}(x) = \\frac{1}{|H_0|}\\sum_{u \\in gH_0} f(u), \\: gx_0 = x\n",
    "\\end{equation}\n",
    "\n",
    "where we've used the fact that $|gH_0| = |H_0|$. Note that the coset generating element $g$ is found by solving $gx_0 = x$, where of course $g$ is not a stabilizing element (otherwise $gx_0 = x_0$ by definition). Let's see some examples now to make all of these easier to understand. \n"
   ]
  },
  {
   "cell_type": "markdown",
   "metadata": {},
   "source": [
    "```{tabbed} ⬡ Finite Group $Z_6$ \n",
    "\n",
    "Our function is the color of the vertices in our picture {glue:}`hex-0` $f(x) = (r, g, b)$ where $r,g,b$ are fractions of the color red, blue green. If we define the vertices to start at the line pointing up, we can label them $0,\\ldots,5$. So for example $f(0) =(0.11, 0.74, 0.61)$, which is the color of the top vertex. \n",
    "\n",
    "We can define the origin as $x_0 = 0$. $|G| = |\\mathcal{X}|$ for this finite group and thus our stabilizer subgroup only contains the identity $H_0 = \\{e\\}$. Our cosets and their associated points will be $(eH_0, x = 0), (rH_0, x = 1), (r^2H_0, x = 2), (r^3H_0, x = 3), (r^4H_0, x = 4), (r^5H_0, x = 5)$. The lifted $f\\uparrow^G(g)$ can be easily defined using these cosets. \n",
    "\n",
    "```\n",
    "\n",
    "```{tabbed} ▩ Locally Compact p4m\n",
    "p4m is intended for images, so our example will be a function $f: \\mathbb{R}^2 \\rightarrow \\mathbb{R}^3$ that represents a color image. This group contains rotations about the origin, so if we choose the origin as our stabilizer it will cleanly separate our group. Namely:\n",
    "\n",
    "$$\n",
    "H_0 = \\left\\{e_ne_r, e_nr, e_nr^2, e_nr^3 , e_ns , e_nrs , e_nr^2s , e_nr^3s\\right\\}\n",
    "$$\n",
    "\n",
    "where our elements have been written out as the semidirect product of translations and $D_4$ as discussed previously. Let's compute a coset to get a sense of this process. Consider the group element $t_{1,0}e_r$ creating the coset $t_{1,0}e_rH_0$. The first element of the coset is $t_{1,0}e_r \\cdot e_ne_r = t_{1,0}e_r$. The second element is $t_{1,0}e_r \\cdot t_{0,0}r = t_{1,0}r$. The rest of the elements of this coset are:\n",
    "\n",
    "$$\n",
    "t_{1,0}e_rH_0 = \\left\\{t_{1,0}e_r , t_{1,0}r , t_{1,0}r^2 ,t_{1,0}r^3 , t_{1,0}s , t_{1,0}rs , t_{1,0}r^2s , t_{1,0}r^3s\\right\\}\n",
    "$$\n",
    "\n",
    "Note these were simple to compute because $\\phi(g)(e_n) = ge_ng^{-1} = e_n$. Now what point is this associated with? Consider the first non-identity coset element $t_{1,0}r$ acting on the origin: $(0,0)\\rightarrow(0,0)\\rightarrow(1,0)$. You'll see similarly that all elements in the coset will follow the same pattern: the first element from $H_0$ doesn't move the origin (by definition) and the second element is the same in the coset (translation by $x + 1$). Thus, the first coset $t_{1,0}e_rH_0$ is associated with the point $(1,0)$.\n",
    "\n",
    "Now consider a coset that involves a $D_4$ element: $t_{1,0}rsH_0$. You can compute its elements as:\n",
    "\n",
    "$$\n",
    "t_{1,0}rsH_0 = \\left\\{t_{1,0}rs, t_{1,0}s, t_{1,0}r^3s, t_{1,0}r^2s, t_{1,0}r, t_{1,0}e_r , t_{1,0}r^3 , t_{1,0}r^2\\\\\\right\\}\n",
    "$$\n",
    "\n",
    "This contains all the same elements as the coset $t_{1,0}e_rH_0$! This is because we have more group elements than space in $\\mathcal{X}$; multiple $g$'s result in the same coset. This doesn't change our intuition though: the translation transform still defines the connection between our coset and the space. Our lifting function will be \n",
    "\n",
    "$$\n",
    "f\\uparrow^G(g) = f\\uparrow^G\\left((t_{x,y}, h)\\right) = f(x,y)\n",
    "$$\n",
    "\n",
    "\n",
    "```\n",
    "\n",
    "```{tabbed} ⚽ SO(3) Lie Group\n",
    "\n",
    "For this example, our function will be points on the sphere $f(x) = \\sum_i \\delta(x - x_i)$. We can represent the group element rotations (among other choices) as being the product of three rotations about the $y$ and $z$ axes: $R_z(\\alpha)R_y(\\beta)R_z(\\gamma)$ If that seems surprising, remember that rotations are not commutative. Santa lives in the north pole, so let's choose the north pole $(0, 0, 1)$ as our stabilizer. You cannot choose $(0,0,0)$ remember because it is not in the space. Our subgroup is rotations that only involve $\\gamma$, for example $R_z(0)R_y(0)R_z(90)$ is in our subgroup $H_0$. Let's generate a coset, say for the group element $g = R_z(120)R_y(0)R_z(60)$. The coset $gH_0$ will be rotations of $R_z(120)R_y(0)R_z(60)R_z(0)R_y(0)R_z(\\gamma)$, which can be simplified to $R_z(120)R_y(0)R_z(60 + \\gamma)$. Thus the coset is $gH_0 = \\left\\{R_z(120)R_y(0)R_z(60 + \\gamma)\\, \\forall \\gamma \\in [0, 2\\pi]\\right\\}$ \n",
    " \n",
    "Now what point is associated with this coset? It will be this rotation applied to the origin: $R_z(120)R_y(0)R_z(60 + \\gamma)x_0$. The first rotation has no effect, by definition, so it becomes $R_z(120)R_y(0)x_0$. The general form is that the coset for a point $x$ is the rotation such that $R_z(\\alpha)R_y(\\beta)x_0 = x$. This quotient space happens to be identical to SO(2), rotations in 2D, because it's defined by two angles. The lifting functions is defined as:\n",
    "\n",
    "\n",
    "$$\n",
    "f\\uparrow^G(g) = f\\uparrow^G\\left(R_z(\\alpha)R_y(\\beta)R_z(\\gamma)\\right) = f\\left(R_z(\\alpha)R_y(\\beta)x_0\\right)\n",
    "$$\n",
    "\n",
    "```"
   ]
  },
  {
   "cell_type": "markdown",
   "metadata": {},
   "source": [
    "## G-Equivariant Convolutions on Finite Groups\n",
    "\n",
    "We now have all the tools to build an equivariant network for a finite group. We'll continue with our example group $Z_6$ on vertices of a hexagon. The hidden cell below does our imports.\n"
   ]
  },
  {
   "cell_type": "code",
   "execution_count": 1,
   "metadata": {
    "tags": [
     "hidden-cell"
    ]
   },
   "outputs": [],
   "source": [
    "import numpy as np\n",
    "import matplotlib.pyplot as plt\n",
    "import matplotlib as mpl\n",
    "color_cycle = ['#1BBC9B', '#F06060', '#5C4B51', '#F3B562', '#6e1bc2', '#AAAAAA']\n",
    "mpl.rcParams['axes.prop_cycle'] = mpl.cycler(color=color_cycle) \n",
    "np.random.seed(0)"
   ]
  },
  {
   "cell_type": "markdown",
   "metadata": {},
   "source": [
    "Let's start by defining our input function:"
   ]
  },
  {
   "cell_type": "code",
   "execution_count": 2,
   "metadata": {},
   "outputs": [
    {
     "data": {
      "text/plain": [
       "array([0.10546875, 0.734375  , 0.60546875])"
      ]
     },
     "execution_count": 2,
     "metadata": {},
     "output_type": "execute_result"
    }
   ],
   "source": [
    "# make our colors (nothing to do with the model)\n",
    "\n",
    "vertex_colors = []\n",
    "for c in color_cycle:\n",
    "    hex_color = int(c[1:], 16)\n",
    "    r =  hex_color // 256**2\n",
    "    hex_color = hex_color - r * 256**2\n",
    "    g =  hex_color // 256\n",
    "    hex_color = hex_color - g * 256\n",
    "    b = hex_color\n",
    "    vertex_colors.append((r / 256, g / 256, b / 256))\n",
    "vertex_colors = np.array(vertex_colors)\n",
    "def z6_fxn(x):\n",
    "    return vertex_colors[x]\n",
    "z6_fxn(0)"
   ]
  },
  {
   "cell_type": "markdown",
   "metadata": {},
   "source": [
    "If we assume our group is indexed already by our vertex coordinates $\\{0,\\ldots, 5\\}$ then our function is already defined on the group. Now we need our trainable kernel function. It will be defined like our other function.\n"
   ]
  },
  {
   "cell_type": "code",
   "execution_count": 3,
   "metadata": {},
   "outputs": [
    {
     "data": {
      "text/plain": [
       "array([[-0.18718385,  1.53277921,  1.46935877],\n",
       "       [ 0.15494743,  0.37816252, -0.88778575],\n",
       "       [-1.98079647, -0.34791215,  0.15634897]])"
      ]
     },
     "execution_count": 3,
     "metadata": {},
     "output_type": "execute_result"
    }
   ],
   "source": [
    "# make weights be 3x3 matrices at each group element\n",
    "# 3x3 so that we have 3 color channels in and 3 out\n",
    "weights = np.random.normal(size=(6, 3, 3))\n",
    "\n",
    "def z6_phi(x):\n",
    "    return weights[x]\n",
    "z6_phi(3)"
   ]
  },
  {
   "cell_type": "markdown",
   "metadata": {},
   "source": [
    "Now we can define our group convolution operator from Equation 8.6. We do need one helper function to get an inverse group element. Remember too that this returns a *function*"
   ]
  },
  {
   "cell_type": "code",
   "execution_count": 4,
   "metadata": {},
   "outputs": [
    {
     "data": {
      "text/plain": [
       "array([ 3.44656211,  1.99816053, -0.63251154])"
      ]
     },
     "execution_count": 4,
     "metadata": {},
     "output_type": "execute_result"
    }
   ],
   "source": [
    "def z6_inv(g):\n",
    "    return (6 - g) % 6\n",
    "def z6_prod(g1, g2):    \n",
    "    return (g1 + g2) % 6\n",
    "def conv(f, p):\n",
    "    def out(u):\n",
    "        g = np.arange(6)    \n",
    "        # einsum is so we can do matrix product for elements of f and g,\n",
    "        # since we have one matrix per color\n",
    "        c = np.sum(np.einsum('ij,ijk->ik', f(z6_prod(u, z6_inv(g))), z6_phi(g)), axis=0)\n",
    "        return c\n",
    "    return out\n",
    "conv(z6_fxn, z6_phi)(0)"
   ]
  },
  {
   "cell_type": "markdown",
   "metadata": {},
   "source": [
    "At this point, we can now verify that the CNN is equivariant by comparing transforming the input function and the output function. We'll need to define our function transforms as well."
   ]
  },
  {
   "cell_type": "code",
   "execution_count": 5,
   "metadata": {},
   "outputs": [
    {
     "data": {
      "text/plain": [
       "(array([0.10546875, 0.734375  , 0.60546875]),\n",
       " array([0.4296875 , 0.10546875, 0.7578125 ]))"
      ]
     },
     "execution_count": 5,
     "metadata": {},
     "output_type": "execute_result"
    }
   ],
   "source": [
    "def z6_fxn_trans(g, f):\n",
    "    return lambda h: f(z6_prod(z6_inv(g), h))\n",
    "z6_fxn(0), z6_fxn_trans(2, z6_fxn)(0)"
   ]
  },
  {
   "cell_type": "markdown",
   "metadata": {},
   "source": [
    "First we'll compute $\\psi\\left[\\mathbb{T}_2 f(x)\\right]$ -- the network acting on the transformed input function"
   ]
  },
  {
   "cell_type": "code",
   "execution_count": 6,
   "metadata": {},
   "outputs": [],
   "source": [
    "trans_element = 2\n",
    "trans_input_fxn = z6_fxn_trans(trans_element, z6_fxn)\n",
    "trans_input_out = conv(trans_input_fxn, z6_phi)"
   ]
  },
  {
   "cell_type": "markdown",
   "metadata": {},
   "source": [
    "Now we compute $\\mathbb{T}_2\\psi\\left[f(x)\\right]$ -- the transform acting on the network output"
   ]
  },
  {
   "cell_type": "code",
   "execution_count": 7,
   "metadata": {},
   "outputs": [
    {
     "name": "stdout",
     "output_type": "stream",
     "text": [
      "g -> psi[f(g)], g -> psi[Tgf(g)], g-> Tg psi[f(g)]\n",
      "0 [ 3.45  2.   -0.63] [ 0.7   1.21 -0.42] [ 0.7   1.21 -0.42]\n",
      "1 [ 4.03  1.98 -2.56] [ 4.18  3.28 -4.54] [ 4.18  3.28 -4.54]\n",
      "2 [0.73 2.44 0.14] [ 3.45  2.   -0.63] [ 3.45  2.   -0.63]\n",
      "3 [ 3.8   1.86 -4.46] [ 4.03  1.98 -2.56] [ 4.03  1.98 -2.56]\n",
      "4 [ 0.7   1.21 -0.42] [0.73 2.44 0.14] [0.73 2.44 0.14]\n",
      "5 [ 4.18  3.28 -4.54] [ 3.8   1.86 -4.46] [ 3.8   1.86 -4.46]\n"
     ]
    }
   ],
   "source": [
    "output_fxn = conv(z6_fxn, z6_phi)\n",
    "trans_output_out = z6_fxn_trans(trans_element, output_fxn)\n",
    "\n",
    "print('g -> psi[f(g)], g -> psi[Tgf(g)], g-> Tg psi[f(g)]')\n",
    "for i in range(6):\n",
    "    print(i, np.round(conv(z6_fxn, z6_phi)(i),2), np.round(trans_input_out(i),2), np.round(trans_output_out(i),2))"
   ]
  },
  {
   "cell_type": "markdown",
   "metadata": {},
   "source": [
    "We can see that the outputs indeed match and therefore our network is G-equivariant. One last detail is that it would be nice to visualize this, so we can add a nonlinearity to remap our output back to color space. Our colors should be between 0 and 1, so we can use a sigmoid to put the activations back to valid colors. I'll hide the input since it contains irrelevant code, but here is the visualization of the previous numbers showing the equivariance."
   ]
  },
  {
   "cell_type": "code",
   "execution_count": 8,
   "metadata": {
    "scrolled": true
   },
   "outputs": [
    {
     "data": {
      "image/png": "[encoded data removed]",
      "text/plain": [
       "<Figure size 450x1350 with 3 Axes>"
      ]
     },
     "metadata": {},
     "output_type": "display_data"
    }
   ],
   "source": [
    "c1 = conv(z6_fxn, z6_phi)\n",
    "c2 = trans_input_out\n",
    "c3 = trans_output_out\n",
    "titles = [r'$\\psi\\left[f(g)\\right]$', r'$\\psi\\left[\\mathbb{T}_2f(g)\\right]$', r'$\\mathbb{T}_2\\psi\\left[f(g)\\right]$']\n",
    "\n",
    "def sigmoid(x):  \n",
    "    return 1 / (1 + np.exp(-x))\n",
    "\n",
    "def convert_color(r, g, b):    \n",
    "    h = int(sigmoid(r) * 256**3 + sigmoid(g) * 256**2 + sigmoid(b) * 256)\n",
    "    return '#{:6X}'.format(h)\n",
    "\n",
    "c1 = [sigmoid(c1(i)) for i in range(6)]\n",
    "c2 = [sigmoid(c2(i)) for i in range(6)]\n",
    "c3 = [sigmoid(c3(i)) for i in range(6)]\n",
    "\n",
    "fig, axs = plt.subplots(1, 3, squeeze=True, figsize=(3, 9), dpi=150)\n",
    "points = np.array([(0,1), (0.5 * np.sqrt(3), 0.5), (0.5 * np.sqrt(3), -0.5), (0, -1), (-0.5 * np.sqrt(3), -0.5), (-0.5 * np.sqrt(3), 0.5)])\n",
    "for i in range(3):\n",
    "    axs[i].scatter(points[:,0], points[:,1], color=[c1, c2, c3][i])\n",
    "    #plt.plot([0, points[0,0]], [0, points[0, 1]], color='black', zorder=0) \n",
    "    axs[i].set_xticks([])\n",
    "    axs[i].set_yticks([])\n",
    "    axs[i].set_xlim(-1.4, 1.4)\n",
    "    axs[i].set_ylim(-1.4, 1.4) \n",
    "    axs[i].set_aspect('equal')\n",
    "    axs[i].set_title(titles[i], fontsize=8)\n",
    "plt.show()"
   ]
  },
  {
   "cell_type": "markdown",
   "metadata": {},
   "source": [
    "As you can see, our output looks the same if we apply the rotation either before or after, so our network is G-equivariant."
   ]
  },
  {
   "cell_type": "markdown",
   "metadata": {},
   "source": [
    "## G-Equivariant Convolutions with Translation\n",
    "\n",
    "How can we treat the p4m group? We cannot directly use the continuous convolution definition because the rotations/mirror subgroup is finite and we cannot use the finite convolution because the translation subgroup is locally compact (infinitely many elements). Instead, we will exploit the structure of the group: it is constructed via a semidirect product so each group element is a pair of elements. Namely we can rewrite Equation 8.6 using the constituent subgroups $N \\rtimes H$ and writing elements $g = hn, g^{-1} = n^{-1}h^{-1}$.\n",
    "\n",
    "```{margin}\n",
    "Remember that $g = nh$ is fine to use because $(n, e_r)\\cdot (e_n, h) = (n, h)$, whereas the reverse requires using the conjugation $\\phi(h)(n)$ (not to be confused with the kernel $\\phi(g)$).\n",
    "```\n",
    "\n",
    "\\begin{equation}\n",
    "(f * \\phi)(u) = \\sum_{n \\in N}\\sum_{h \\in H} f\\uparrow^G\\left(un^{-1}h^{-1}\\right)\\phi(hn)\n",
    "\\end{equation}\n",
    "\n",
    "Now we must treat the fact that there are an infinite number of elements in $N$ (the translations). We can simply choose the kernel function ($\\phi$) to only have support ($\\phi(g) > 0$) at locations we want and that will simplify the integration. This may seem ad-hoc -- but remember we already made choices like not including 45° rotations. There do exist ways to systematically treat how to narrow the kernels into \"neigbhorhoods\" of groups in {cite}`finzi2020generalizing` or you can find a rigorous derivation specifically for p4 in {cite}`romero2020attentive` or {cite}`cohen2016group`.\n",
    "\n",
    "```{margin}\n",
    "I have a hidden cell below which does a bit of magic. It makes the group elements be hashable. That in turn allows me to cache functions, enabling much faster speeds. This code would be unusable otherwise due to all the nested loops.\n",
    "```\n",
    "\n",
    "Our goal for the p4m group is image data, so we'll limit the support of the kernel to only integer translations (like pixels) and limit the distance to 5 units. This simply reduces our sum over the normal subrgroup ($N$). We can now begin our implementation. We'll start by loading an image which will serve as our function. It is a $32\\times32$ RGB image. Remember that we need to allow points to have 3 dimensions, where the third dimension is always 1 to accommodate our augmented space."
   ]
  },
  {
   "cell_type": "code",
   "execution_count": 9,
   "metadata": {
    "tags": [
     "hide-cell"
    ]
   },
   "outputs": [],
   "source": [
    "# From https://gist.github.com/Susensio/61f4fee01150caaac1e10fc5f005eb75\n",
    "\n",
    "from functools import lru_cache, wraps\n",
    "import numpy as np\n",
    "\n",
    "\n",
    "def np_cache(*args, **kwargs):\n",
    "    \"\"\"LRU cache implementation for functions whose FIRST parameter is a numpy array\n",
    "    >>> array = np.array([[1, 2, 3], [4, 5, 6]])\n",
    "    >>> @np_cache(maxsize=256)\n",
    "    ... def multiply(array, factor):\n",
    "    ...     print(\"Calculating...\")\n",
    "    ...     return factor*array\n",
    "    >>> multiply(array, 2)\n",
    "    Calculating...\n",
    "    array([[ 2,  4,  6],\n",
    "           [ 8, 10, 12]])\n",
    "    >>> multiply(array, 2)\n",
    "    array([[ 2,  4,  6],\n",
    "           [ 8, 10, 12]])\n",
    "    >>> multiply.cache_info()\n",
    "    CacheInfo(hits=1, misses=1, maxsize=256, currsize=1)\n",
    "    \n",
    "    \"\"\"\n",
    "    def decorator(function):\n",
    "        @wraps(function)\n",
    "        def wrapper(np_array, *args, **kwargs):\n",
    "            hashable_array = array_to_tuple(np_array)\n",
    "            return cached_wrapper(hashable_array, *args, **kwargs)\n",
    "\n",
    "        @lru_cache(*args, **kwargs)\n",
    "        def cached_wrapper(hashable_array, *args, **kwargs):\n",
    "            array = np.array(hashable_array)\n",
    "            return function(array, *args, **kwargs)\n",
    "\n",
    "        def array_to_tuple(np_array):\n",
    "            \"\"\"Iterates recursivelly.\"\"\"\n",
    "            try:\n",
    "                return tuple(array_to_tuple(_) for _ in np_array)\n",
    "            except TypeError:\n",
    "                return np_array\n",
    "\n",
    "        # copy lru_cache attributes over too\n",
    "        wrapper.cache_info = cached_wrapper.cache_info\n",
    "        wrapper.cache_clear = cached_wrapper.cache_clear\n",
    "\n",
    "        return wrapper\n",
    "\n",
    "    return decorator"
   ]
  },
  {
   "cell_type": "code",
   "execution_count": 10,
   "metadata": {},
   "outputs": [],
   "source": [
    "# load image and drop alpha channel\n",
    "W = 32\n",
    "func_vals = plt.imread('quadimg.png')[...,:3]\n",
    "# we pad it with zeros to show boundary\n",
    "func_vals = np.pad(func_vals, ((1,1), (1,1), (0,0)), mode='constant', constant_values=0.2)\n",
    "def pix_func(x):\n",
    "    # clip & squeeze & round to account for transformed values\n",
    "    xclip = np.squeeze(np.clip(np.round(x), -W // 2 - 1, W // 2)).astype(np.int)\n",
    "    # points are centered, fix that        \n",
    "    xclip += [W // 2, W // 2, 0]\n",
    "    # add 1 to account for padding\n",
    "    return func_vals[xclip[...,0] + 1, xclip[...,1] + 1]"
   ]
  },
  {
   "cell_type": "code",
   "execution_count": 11,
   "metadata": {},
   "outputs": [
    {
     "data": {
      "image/png": "[encoded data removed]",
      "text/plain": [
       "<Figure size 144x144 with 1 Axes>"
      ]
     },
     "metadata": {
      "needs_background": "light"
     },
     "output_type": "display_data"
    }
   ],
   "source": [
    "def plot_func(f, ax=None):\n",
    "    if ax is None:\n",
    "        plt.figure(figsize=(2, 2))\n",
    "        ax = plt.gca()\n",
    "    gridx,gridy = np.meshgrid(np.arange(-W // 2, W // 2), np.arange(-W // 2, W // 2), indexing='ij')        \n",
    "    # make it into batched x,y indices and add dummy 1 indices for augmented space\n",
    "    batched_idx = np.vstack((gridx.flatten(), gridy.flatten(), np.ones_like(gridx.flatten()))).T\n",
    "    ax.imshow(f(batched_idx).reshape(W, W, 3), origin='upper')\n",
    "    ax.axis('off')\n",
    "plot_func(pix_func)"
   ]
  },
  {
   "cell_type": "markdown",
   "metadata": {},
   "source": [
    "Now let's define our G-function transform so that we can transform our function with group elements. We'll apply a $rst_{12,-8}$ element to our function."
   ]
  },
  {
   "cell_type": "code",
   "execution_count": 12,
   "metadata": {},
   "outputs": [
    {
     "data": {
      "image/png": "[encoded data removed]",
      "text/plain": [
       "<Figure size 144x144 with 1 Axes>"
      ]
     },
     "metadata": {
      "needs_background": "light"
     },
     "output_type": "display_data"
    }
   ],
   "source": [
    "def make_h(rot, mirror):\n",
    "    '''Make h subgroup element'''\n",
    "    m = np.eye(3)\n",
    "    if mirror:\n",
    "        m = np.array([[-1,0,0],[0,1,0],[0,0,1]])\n",
    "    r = np.array([[np.cos(rot), -np.sin(rot), 0], [np.sin(rot), np.cos(rot), 0], [0, 0, 1]])\n",
    "    return r @ m\n",
    "def make_n(dx, dy):\n",
    "    '''Make normal subgroup element'''\n",
    "    return np.array([[1, 0, dx], [0, 1, dy], [0, 0, 1]])\n",
    "def g_func_trans(g, f):\n",
    "    '''compute g-function transform'''\n",
    "    @np_cache(maxsize=W**3)\n",
    "    def fxn(x, g=g, f=f):\n",
    "        ginv = np.linalg.inv(g)\n",
    "        return f(ginv.reshape(1, 3, 3) @ x.reshape(-1, 3, 1))\n",
    "    return fxn\n",
    "\n",
    "g = make_h(np.pi, 1) @ make_n(12, -8)\n",
    "tfunc = g_func_trans(g, pix_func)\n",
    "plot_func(tfunc)"
   ]
  },
  {
   "cell_type": "markdown",
   "metadata": {},
   "source": [
    "Now we need to create our lifting and projecting maps to go from functions over points to functions over group elements. Remember, our lifting function just takes the translation element and makes that point. "
   ]
  },
  {
   "cell_type": "code",
   "execution_count": 13,
   "metadata": {},
   "outputs": [
    {
     "name": "stdout",
     "output_type": "stream",
     "text": [
      "lifted [0.93333334 0.7176471  0.43137255]\n",
      "projected [[0.72941178 0.71764708 0.72156864]]\n"
     ]
    }
   ],
   "source": [
    "# enumeraet stabilizer subgrou (rotation/mirrors)\n",
    "stabilizer = []\n",
    "for i in range(4):\n",
    "    for j in range(2):\n",
    "        stabilizer.append(make_h(i * np.pi / 2, j))\n",
    "\n",
    "def lift(f):\n",
    "    '''lift f into group'''\n",
    "    # create new function from original\n",
    "    # that is f(gx_0)\n",
    "    @np_cache(maxsize=W**3)\n",
    "    def fxn(g, f=f):\n",
    "        return f(g @ np.array([0, 0, 1]))\n",
    "    return fxn\n",
    "\n",
    "\n",
    "def project(f):\n",
    "    '''create projected function over space'''\n",
    "    @np_cache(maxsize=W**3)\n",
    "    def fxn(x, f=f):\n",
    "        # x may be batched so we have to allow it to be N x 3\n",
    "        x = np.array(x).reshape((-1,3))\n",
    "        out = np.zeros((x.shape[0], 3))\n",
    "        for i,xi in enumerate(x):\n",
    "            # find coset gH        \n",
    "            g = make_n(xi[0], xi[1])\n",
    "            # loop over coset\n",
    "            for h in stabilizer:             \n",
    "                ghi = g @ h\n",
    "                out[i] += f(ghi)\n",
    "            out[i] /= len(stabilizer)\n",
    "        return out\n",
    "    return fxn\n",
    "# try them out\n",
    "print('lifted', lift(pix_func)(g))\n",
    "print('projected', project(lift(pix_func))([12, -8, 0]))"
   ]
  },
  {
   "cell_type": "markdown",
   "metadata": {},
   "source": [
    "We now need to create our kernel functions $\\phi$. Rather than make a function of the group elements, we'll use indices to represent the different group elements. Remember we need to apply a sigmoid at the end so that we stay in color space. "
   ]
  },
  {
   "cell_type": "code",
   "execution_count": 14,
   "metadata": {},
   "outputs": [
    {
     "data": {
      "text/plain": [
       "array([0.08769476, 0.82036708, 0.99128031])"
      ]
     },
     "execution_count": 14,
     "metadata": {},
     "output_type": "execute_result"
    }
   ],
   "source": [
    "kernel_width = 5 # must be odd\n",
    "# make some random values for kernel (untrained)\n",
    "# kernel is group elements x 3 x 3. The group elements are structured (for simplicity) as a N x 5 x 5\n",
    "# the 3 x 3 part is because we have 3 color channels coming in and 3 going out.\n",
    "kernel = np.random.uniform(-0.5, 0.5, size=(len(stabilizer), kernel_width, kernel_width, 3, 3))\n",
    "\n",
    "def conv(f, p=kernel):\n",
    "    @np_cache(maxsize=W**4)\n",
    "    def fxn(u):\n",
    "        # It is possible to do this without inner for \n",
    "        # loops over convolution (use a standard conv), \n",
    "        # but we do this for simplicity. \n",
    "        result = 0\n",
    "        for hi,h in enumerate(stabilizer):\n",
    "            for nix in range(-kernel_width // 2, kernel_width // 2 + 1):\n",
    "                for niy in range(-kernel_width // 2, kernel_width // 2 + 1):\n",
    "                    result += f(u @ \n",
    "                      make_n(-nix, -niy) @ \\\n",
    "                      np.linalg.inv(h)) @\\\n",
    "                    kernel[hi, nix + kernel_width // 2, niy + kernel_width // 2]\n",
    "        return sigmoid(result)\n",
    "    return fxn\n",
    "# compute convolution\n",
    "cout = conv(lift(pix_func))\n",
    "# try it out an a group element\n",
    "cout(g)"
   ]
  },
  {
   "cell_type": "markdown",
   "metadata": {},
   "source": [
    "\n",
    "\n",
    "At this point our convolution layer has returned a function over all group elements. We can visualize this by viewing each stabilizer element individually across the normal subgroup. This is like plotting each coset with a choice of representative element."
   ]
  },
  {
   "cell_type": "code",
   "execution_count": 15,
   "metadata": {},
   "outputs": [
    {
     "data": {
      "image/png": "[encoded data removed]",
      "text/plain": [
       "<Figure size 144x144 with 1 Axes>"
      ]
     },
     "metadata": {
      "needs_background": "light"
     },
     "output_type": "display_data"
    }
   ],
   "source": [
    "def plot_coset(h, f, ax):    \n",
    "    '''plot a function over group elements on cosets given representative g'''\n",
    "    gridx,gridy = np.meshgrid(np.arange(-W // 2, W // 2), np.arange(-W // 2, W // 2), indexing='ij')        \n",
    "    # make it into batched x,y indices and add dummy 1 indices for augmented space\n",
    "    batched_idx = np.vstack((gridx.flatten(), gridy.flatten(), np.ones_like(gridx.flatten()))).T\n",
    "    values = np.zeros((W**2, 3))\n",
    "    for i, bi in enumerate(batched_idx):\n",
    "        values[i] = f(h @ make_n(bi[0], bi[1]))\n",
    "    ax.imshow(values.reshape(W, W, 3), origin='upper')    \n",
    "    ax.axis('off')\n",
    "# try it with mirror\n",
    "plt.figure(figsize=(2, 2))\n",
    "plot_coset(make_h(0, 1), lift(pix_func), ax=plt.gca())"
   ]
  },
  {
   "cell_type": "markdown",
   "metadata": {},
   "source": [
    "Now we will plot our convolution for each possible coset representative. This code is *incredibly* inefficient because we have so many loops in plotting and the convolution. This is where the `np_cache` from above helps. "
   ]
  },
  {
   "cell_type": "code",
   "execution_count": 16,
   "metadata": {
    "scrolled": true
   },
   "outputs": [
    {
     "data": {
      "image/png": "[encoded data removed]",
      "text/plain": [
       "<Figure size 576x288 with 8 Axes>"
      ]
     },
     "metadata": {
      "needs_background": "light"
     },
     "output_type": "display_data"
    }
   ],
   "source": [
    "stabilizer_names = ['$e$', '$r$', '$r^2$', '$r^3$', '$s$', '$rs$', '$r^2s$', '$r^3s$']\n",
    "fig, axs = plt.subplots(2, 4, figsize=(8,4))\n",
    "axs = axs.flatten()\n",
    "for i, (n,h) in enumerate(zip(stabilizer_names, stabilizer)):\n",
    "    ax = axs[i]\n",
    "    plot_coset(h, cout, ax)\n",
    "    ax.set_title(n)    "
   ]
  },
  {
   "cell_type": "markdown",
   "metadata": {},
   "source": [
    "These convolutions are untrained, so it's sort of a diffuse random combination of pixels. You can see each piece of the function broken out by stabilizer group element (the rotation/mirroring). We can stack multiple layers of these convolution if we wanted. At the end, we want to get back to our space with the projection. \n",
    "Let us now show our layers are equivariant by applying a G-function transform to input and output. "
   ]
  },
  {
   "cell_type": "code",
   "execution_count": 20,
   "metadata": {},
   "outputs": [
    {
     "data": {
      "image/png": "[encoded data removed]",
      "text/plain": [
       "<Figure size 432x288 with 3 Axes>"
      ]
     },
     "metadata": {
      "needs_background": "light"
     },
     "output_type": "display_data"
    }
   ],
   "source": [
    "fig, axs = plt.subplots(1, 3, squeeze=True)\n",
    "plot_func(project(cout), ax=axs[0])\n",
    "axs[0].set_title(r'$\\psi\\left[f(g)\\right]$')\n",
    "\n",
    "# make a transformation for visualization purposes\n",
    "g = make_h(np.pi, 0) @ make_n(-10, 16)\n",
    "tfunc = g_func_trans(g, project(cout))\n",
    "plot_func(tfunc, ax=axs[1])\n",
    "axs[1].set_title(r'$\\mathbb{T}\\psi\\left[f(g)\\right]$')\n",
    "\n",
    "tcout = project(conv(lift(g_func_trans(g, pix_func))))\n",
    "\n",
    "plot_func(tcout, ax=axs[2])\n",
    "axs[2].set_title(r'$\\psi\\left[\\mathbb{T}f(g)\\right]$')\n",
    "plt.show()"
   ]
  },
  {
   "cell_type": "markdown",
   "metadata": {},
   "source": [
    "This shows that the convolution layer is indeed equivariant. Details not covered here are how to do pooling (if desired) and the choice of non-linearity. You can find more details on this for the p4m group in Cohen et al. {cite}`cohen2016group`. This implementation is also quite slow! Kondor et al. {cite}`kondor2018generalization` show how you can reduce the number of operations by identifying sparsity in the convolutions. "
   ]
  },
  {
   "cell_type": "markdown",
   "metadata": {},
   "source": [
    "## Group Representation\n",
    "\n",
    "p4m was an infinite group but we restricted ourselves to a finite subset. Before we can progress to move to truly infinite locally compact groups, like SO(3), we need to learn how to systematically represent the group element binary operation. You can find a detailed description of representation theory in Serre {cite}`serre1977linear` and it is covered in Zee {cite}`zee2016`. Thus far, we've discussed the group actions -- how they affect a point. Now we need to describe how to represent them with matrices. This will be a very quick overview of this topic, but representation of groups is a large area with well-established references. There is specifically a great amount of literature about building up these representations, but we'll try to focus on using them since you generally can look-up the representations for most groups we'll operate in. \n",
    "\n",
    "Let us first define a representation on a group:\n",
    "\n",
    "```{admonition} Linear Representation of a Group\n",
    "Let $G$ be a group on an $n$-dimensional vector space $\\mathcal{X}$ . A linear representation of $G$ is a group homomorphism: $\\rho: G \\rightarrow GL(m,\\mathbb{C})$ where $GL(m, \\mathbb{C})$ is the space of $m\\times m$ square invertible matrices with complex numbers. The representation $\\rho$ should satisfy the following equation\n",
    "\n",
    "\\begin{equation}\n",
    "\\label{rep-def}\n",
    "\\rho\\left(g_1\\cdot g_2\\right) = \\rho\\left(g_1\\right) \\rho\\left(g_2\\right)\\; \\forall\\, g_1,g_2 \\in G\n",
    "\\end{equation}\n",
    "\n",
    "where the term $\\rho\\left(g_1\\right) \\rho\\left(g_2\\right)$ is a matrix product. \n",
    "```\n",
    "\n",
    "There are a few things to note about this definition. First, the representation assigns matrices to graph elements in such a way that multiplying matrices gives the same representation as getting the representation of the binary operation ($\\rho\\left(g_1\\cdot g_2\\right)$). Second, the matrices have to be square and invertible. This follows from the requirement that group elements must have an inverse, so naturally we need invertible matrices. The invertible requirement also means we must allow complex numbers. Third, the **degree** of the representation ($m$) need not be the same size as the vector space. \n",
    "\n",
    "There is a big detail missing from this definition. Does this have anything to do with how the group element affect a point? No. Consider that $\\rho(g_i) = 1$ is a valid representation, as in it satisfies the definition. Yet $1$ is not the correct way to transforms points with group elements. If we go further and say that the representation is *injective* (one to one), then we must have a unique representation for every group element. That is called a **faithful representation**. This is better, but it turns out there are still multiple faithful representations for a group. \n",
    "\n",
    "Remember the way a group affects a point is a **group action**, which maps from the direct product of $G, \\mathcal{X}$ (i.e., a tuple like $(g_2, x)$ to $\\mathcal{X}$. A group action, if it is linear, can also be a representation. Consider that we write the group action $\\pi$ (how a group element affects a point) as $\\pi(g)(x) = x'$. You can convert this into a square matrix in $\\mathcal{X}\\times\\mathcal{X}$ by considering how each element of $x'$ is affected the element in $x$. This matrix can be further shown to be in $GL(m, \\mathcal{X})$ and a representation by relying on its linearity. There isn't a special word for this, but often groups are defined in terms of these special matrices that both transforms points and are valid representations (e.g., SO(3)). They are then called the **defining representation** or **fundamental representation**. \n",
    "\n",
    "\n",
    "Let's now see group representations on the examples above that are both group actions and representations. \n"
   ]
  },
  {
   "cell_type": "markdown",
   "metadata": {},
   "source": [
    "```{tabbed} ⬡ Finite Group $Z_6$ \n",
    "\n",
    "Our group action defined above was modular arithmetic, which is not linear and so we cannot use it to construct representation. There are multiple representation for cyclic groups like $Z_6$. If you're comfortable with complex numbers, you can build circulant matrices of $6$th roots of unity. If that confuses you, like it does me, then you can also just view this group like a rotation group. Just like how if you rotate enough times you get back to the beginning, you can also use rotation matrices of $360 / 6 = 60^{\\circ}$. This requires a 2D vector representation though for the space. With this choice, a representation is:\n",
    "\n",
    "$$\n",
    "\\left[\\begin{array}{lr}\n",
    "\\cos\\frac{k2\\pi}{6} & -\\sin\\frac{k2\\pi}{6}\\\\\n",
    "\\sin\\frac{k2\\pi}{6} & \\cos\\frac{k2\\pi}{6}\\\\\n",
    "\\end{array}\\right],\\, k \\in \\left\\{0, 1, 2, 3, 4, 5\\right\\}\n",
    "$$\n",
    "\n",
    "Let's verify that this is a representation by checking that $r^2\\cdot\\,r^4 = e$\n",
    "\n",
    "$$\n",
    "\\left[\\begin{array}{lr}\n",
    "\\cos\\frac{4\\pi}{6} & -\\sin\\frac{4\\pi}{6}\\\\\n",
    "\\sin\\frac{4\\pi}{6} & \\cos\\frac{4\\pi}{6}\\\\\n",
    "\\end{array}\\right]\\left[\\begin{array}{lr}\n",
    "\\cos\\frac{8\\pi}{6} & -\\sin\\frac{k2\\pi}{6}\\\\\n",
    "\\sin\\frac{8\\pi}{6} & \\cos\\frac{8\\pi}{6}\\\\\n",
    "\\end{array}\\right] = \\left[\\begin{array}{lr}\n",
    "\\cos\\frac{12\\pi}{6} & -\\sin\\frac{12\\pi}{6}\\\\\n",
    "\\sin\\frac{12\\pi}{6} & \\cos\\frac{12\\pi}{6}\\\\\n",
    "\\end{array}\\right] = \\left[\\begin{array}{lr}\n",
    "1 & 0\\\\\n",
    "0 & 1\\\\\n",
    "\\end{array}\\right]\n",
    "$$\n",
    "\n",
    "You can also verify that this is a group action by repeated application to the point $(1,0)$, which will rotate around the unit circle. \n",
    "\n",
    "```\n",
    "\n",
    "```{tabbed} ▩ Locally Compact p4m\n",
    "\n",
    "Our group action defined above for the translation elements is not linear. To define a representation, we can use [**Affine Matrices**]() which are $3\\times3$ invertible square matrices. That means even though our goal is 2D data, we need to introduce a 3rd dimension: $(x, y, 1)$. The 3rd dimension is always $1$ and is called the augmented dimension. To specify a group representation we simply need to multiply an affine matrix for rotation, reflection, and translation (*in that order!*). These are:\n",
    "\n",
    "Rotation:\n",
    "\n",
    "$$\n",
    "\\left[\\begin{array}{lcr}\n",
    "\\cos\\frac{k\\pi}{4} & -\\sin\\frac{k\\pi}{4} & 0\\\\\n",
    "\\sin\\frac{k\\pi}{4} & \\cos\\frac{k\\pi}{4} & 0\\\\\n",
    "0 & 0 & 1\\\\\n",
    "\\end{array}\\right] ,\\, k \\in \\left\\{0, 1, 2, 3\\right\\}\n",
    "$$\n",
    "\n",
    "Reflection:\n",
    "\n",
    "$$\n",
    "\\left[\\begin{array}{lcr}\n",
    "1 & 0 & 0\\\\\n",
    "0 & -1 & 0\\\\\n",
    "0 & 0 & 1\\\\\n",
    "\\end{array}\\right]\n",
    "$$\n",
    "\n",
    "Translation:\n",
    "\n",
    "$$\n",
    "\\left[\\begin{array}{lcr}\n",
    "1 & 0 & \\Delta x\\\\\n",
    "0 & 1 & \\Delta y\\\\\n",
    "0 & 0 & 1\\\\\n",
    "\\end{array}\\right]\n",
    "$$\n",
    "\n",
    "It is a bit more involved to verify this is a group representation, but you can try a few group element products to convince yourself. Do not forget the special homomorphism (conjugate $\\phi(h)(n)$) for semidirect products when multiplying group element, which ensures the correct behavior if rearrange the order of the matrices. \n",
    "\n",
    "```\n",
    "\n",
    "\n",
    "```{tabbed} ⚽ SO(3) Lie Group\n",
    "\n",
    "A representation of the SO(3) lie group is just its usual group action: the product of 3 3D rotation matrices $R_z(\\alpha)R_y(\\beta)R_z(\\gamma)$ where $\\alpha, \\beta, \\gamma \\in [0, 2\\pi]$ and the matrices are defined above.\n",
    "\n",
    "```"
   ]
  },
  {
   "cell_type": "markdown",
   "metadata": {},
   "source": [
    "### Irreducible representations\n",
    "\n",
    "These representations that both describe the group action and how group elements affect on another are typically **reducible**, meaning if you drop the requirement that they also describe group action they can be simplified. The process of reducing representations is again a topic best left to other references {cite}`serre1977linear`. Each group will have multiple unitary irreducible representations (e.g., $\\pho(g) = 1$ is always a valid irreducible representation). The number of irreducible representations is finite for finite groups and an infnite sequence for locally compact groups. These irreducible representations are like orthonormal basis-functions or basis-vectors from Hilbert spaces. From the Peter-Weyl theorem, they specifically provide a complete basis-set for integrable ($L^2$) functions of the group. Recall, we can use lifting to move functions of our space to our group and thus the irreducible representations enable us to represent the functions as a (direct) sum of coefficients of these. One important attribute of irreducible representations is that they can be complex and if a group is non-abelian, some of them will be matrices. That means the individual representations can have different dimensions. Remember, each individual irreducible representation is itself a valid representation but they are not all faithful and so you need some of them to uniquely represent all group elements and all (?) of them to represent functions over the group. We'll discuss below why we would subject ourself to this confusing and seemingly capricious convention. \n",
    "\n",
    "There is a (countable) infinite sequence of possible irreducible representations for the SO(3) group known as the Wigner D-matrices. They must be of odd dimension, and so are traditionally written as the sequence $2l + 1$ where $l$ is irreducible representation index and its dimension is $2l + 1$. This may be surprising, that the irreducible representations can be of greater dimension than our reducible representation $R_z(\\alpha)R_y(\\beta)R_z(\\gamma)$. The easiest way to think about this is to consider SO(3) acting on 3 dimensional $nth$ degree polynomials. The trivial representation works on 0th degree polynomials ($l = 0$), the 3 dimensional representation works on 1st degree polynomials ($l = 1$), the 5 dimensional representation works on 2nd degree polynomials ($l = 2$), and so on. You can find a nice description of [this here](https://math.stackexchange.com/a/40141). \n",
    "\n",
    "These representations will become how we encode our input function $f(x)$ into the group SO(3), because they form a complete basis-set. If our representation of the group is of dimension 1, then we can only encode scalars at points (e.g., charge). If our representation is of dimension 3, then we can encode a vector valued function like forces. If our representation is of dimension 5, then we can encode matrix valued functions like shear stress at each point. However, it is not quite as simple as the y coordinate of forces go into the $l = 1$ irreducible representation. We need to use information *about* the irreducible representations to encode our data{cite}`thomas2018tensor,batzner2021se3equivariant`. We'll see examples in our implementation below. For matrix or tensor valued $f(x)$ see the moment of inertia example in Appendix D of {cite}`thomas2018tensor`. \n",
    "\n",
    "One complexity of converting our function $f(x)$ into irreducible representations of SO(3) is that the irreducible representations of $l > 1$ are meant to describe SO(3) acting on functions that output a single value (more specifically **harmonic polynomials**) and so a $3\\times3$ matrix (like moment of inertia) must be first decomposed into sums of terms like $x^2$, $yz$, etc. We'll see this more clearly in the implementation below. "
   ]
  },
  {
   "cell_type": "markdown",
   "metadata": {
    "tags": [
     "remove-cell"
    ]
   },
   "source": [
    "### Converting from Functions to Irreducible Representations\n",
    "\n",
    "I know that we end up inserting masses into $l = 0$, vectors into $l = 1$, and matrices into $l = 2$ (or some combination). However, how do we reconcile this with our lifting operation above? Obviously we can think in terms of harmonic polynomials, since that's what higher order spherical harmonics treat. However, how do we convert a vector field into a harmonic polynomial? One way is to just to \"pretend\" the vector field is its derivative? Then when we do the Fourier Transform we say that the integral....\n",
    "\n",
    "Haar measure, we'll need it: https://arxiv.org/pdf/1801.10130.pdf"
   ]
  },
  {
   "cell_type": "markdown",
   "metadata": {},
   "source": [
    "Irreducible representations have nothing to do with the group action, so we didn't gain any advantage of lifting or  equivariances. Why did we go through this discussion and work of finding the irreducilbe representations of SO(3) and converting our functions into them? *Convolutions of group functions are products of their irreducible representations*. This is essential for compact groups like SO(3) because otherwise we would be evaluating definite integrals and their derivatives to do training and inference"
   ]
  },
  {
   "cell_type": "code",
   "execution_count": 18,
   "metadata": {
    "tags": [
     "remove-cell"
    ]
   },
   "outputs": [
    {
     "data": {
      "application/papermill.record/image/png": "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\n",
      "application/papermill.record/text/plain": "<Figure size 72x72 with 1 Axes>"
     },
     "metadata": {
      "scrapbook": {
       "mime_prefix": "application/papermill.record/",
       "name": "hex-0"
      }
     },
     "output_type": "display_data"
    },
    {
     "data": {
      "application/papermill.record/image/png": "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\n",
      "application/papermill.record/text/plain": "<Figure size 72x72 with 1 Axes>"
     },
     "metadata": {
      "scrapbook": {
       "mime_prefix": "application/papermill.record/",
       "name": "hex-1"
      }
     },
     "output_type": "display_data"
    },
    {
     "data": {
      "application/papermill.record/image/png": "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\n",
      "application/papermill.record/text/plain": "<Figure size 72x72 with 1 Axes>"
     },
     "metadata": {
      "scrapbook": {
       "mime_prefix": "application/papermill.record/",
       "name": "hex-2"
      }
     },
     "output_type": "display_data"
    },
    {
     "data": {
      "application/papermill.record/image/png": "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\n",
      "application/papermill.record/text/plain": "<Figure size 72x72 with 1 Axes>"
     },
     "metadata": {
      "scrapbook": {
       "mime_prefix": "application/papermill.record/",
       "name": "hex-3"
      }
     },
     "output_type": "display_data"
    },
    {
     "data": {
      "application/papermill.record/image/png": "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\n",
      "application/papermill.record/text/plain": "<Figure size 72x72 with 1 Axes>"
     },
     "metadata": {
      "scrapbook": {
       "mime_prefix": "application/papermill.record/",
       "name": "hex-4"
      }
     },
     "output_type": "display_data"
    },
    {
     "data": {
      "application/papermill.record/image/png": "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\n",
      "application/papermill.record/text/plain": "<Figure size 72x72 with 1 Axes>"
     },
     "metadata": {
      "scrapbook": {
       "mime_prefix": "application/papermill.record/",
       "name": "hex-5"
      }
     },
     "output_type": "display_data"
    },
    {
     "data": {
      "application/papermill.record/image/png": "iVBORw0KGgoAAAANSUhEUgAAAEYAAABECAYAAAA85kOPAAAAOXRFWHRTb2Z0d2FyZQBNYXRwbG90bGliIHZlcnNpb24zLjMuMiwgaHR0cHM6Ly9tYXRwbG90bGliLm9yZy8vihELAAAACXBIWXMAAAsTAAALEwEAmpwYAAAFEklEQVR4nO2bQUjbXhzHf4mtbol2a0pAdAUvym5iweFR6FlwMGFHQXdQBmNs3iz04A5eGoRddhgoVPAiKHqUITh2G+zgYSuKiIoMpWON6UZt3vd/GO1fbV5batKELR/w4kv7vu+b93755fdeBQDkU4notgCv4hvDwTeGg28MB98YDoEa7X/7I0vgNfgzhoNvDAffGA6eMYYxRrquE2PMbSlE5AFjAJCmaaSqKimKQqqqkqZp5PqrCoBqf46TSqUgSRLozxMQRARJkqBpWjO6545dQPU74+htY4yRqqqUzWYr2hRFobOzMxJFRye1Nx/XhmHQz58/LdtyuRzl8/kmK/of14w5Ojqi6elpMk2Te823b9+aqOgG1daZE4ta13UkEgncvXsXbW1tiMfjFTGmtbUVkiRBEASMj4/j5OTECSlAlbE3zZhisYj379+js7MTRISnT5/i4OAAjDFomgZFURAIBKAoCjRNQzabxczMTNmkZDKJi4sLOyUBbhuztbWF/v5+EBGGhobw6dOnimtM04Su6zBN89r/9/b28OTJExARuru7sbS0VHHNLXDHmK9fv2JkZAREhJ6eHqysrIAx1tB37ezsYHBwEESEWCyG7e3t28oDnDbGNE3kcrnynTw7O8Pz588RCATQ0dGB+fl5/Pr169ajME0Ty8vLiEajICKMjo4ik8lwddSBM8YwxpBKpcrxIRwOY2RkBKFQCKIoYmpqCt+/f69/5HWSz+fx5s0btLe3IxAI4MWLF5ibm7sWp1KpVD2z0xljrLJWIsLDhw+xu7vb8MDr5fT0FM+ePavon+rPnu03xjRNKIpiKUpRFDsDZFVM08S9e/ca1cEde8MJnmEYlMvlLNuambUahkGGYdiuo2FjZFmmUChk2RYKhUiSpEa/2hM6GjZGFEWanZ2t6FiWZUokEk6//Dmvo9o6q7W+S1mrIAgQRbGctTaaqzRKSYcsyyAi3L9/v14dzuYxqqpiYmKiaQGXx7t370BEODw8rPcj9gffqwiCQMFgsGnLh0epfzt0uF7a9Cq+MRx8Yzj4xnDwjeHgG8PBN4aDbwwH3xgOthgDgAqFgusb8qX+bdFR7X2h1otGqbR59SWyzpKirZR0XH2J9Fxps4kb8nbo+LtLm7fQ8XeXNp3Q4UhpMxgMkiBwT1jYBmOMVldXuQcDblVirTadak1jq7Xd0tICIkI0GkU6nXZsSW1vbyMWi5X7unPnzjUdsiy7E2MAcDfkP3z4gIGBARARHj16hI8fPzY6/goymQweP34MIsKDBw+QTqdRLBYtdbhe2rTakDdNE4uLi+jq6gIRYWxsDPv7+/U7cINsNouXL18iGAxClmXMzc3BMIyaOmrgrDHVuLi4QDKZhCRJaG1txevXr/Hjx4+6P18oFLCwsABFUSAIAiYnJ3F6emqHNMBNY0ocHx9jfHwcgiAgEong7du3KBQK5fabG/KMMayvr6Ovrw9EhHg8ji9fvtgpCfCCMSU+f/6M4eHh8h73xsbGtYMBiqLg1atX167Z3Nx0Kpv2jjHAn9mwtraG3t5eEBFEUbTclL85qxyAO3ZXj7P+/v2bIpGIZRIWDofp/Pz83zzOenl5SYVCwbJN1/V/8zgrkXcOBljhqjFeORhgSbUA5GTUK8HLnptU0/Fm8L0KY4zy+TxJktTMmcINvp4xxiW8+VTyMr4xHGr9vNj5apNH8WcMB98YDr4xHHxjOPjGcPCN4fAfL9Ahd9JUkCsAAAAASUVORK5CYII=\n",
      "application/papermill.record/text/plain": "<Figure size 72x72 with 1 Axes>"
     },
     "metadata": {
      "scrapbook": {
       "mime_prefix": "application/papermill.record/",
       "name": "hex-6"
      }
     },
     "output_type": "display_data"
    },
    {
     "name": "stdout",
     "output_type": "stream",
     "text": [
      "0 0\n"
     ]
    },
    {
     "data": {
      "application/papermill.record/image/png": "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\n",
      "application/papermill.record/text/plain": "<Figure size 72x72 with 1 Axes>"
     },
     "metadata": {
      "scrapbook": {
       "mime_prefix": "application/papermill.record/",
       "name": "quad-0-0"
      }
     },
     "output_type": "display_data"
    },
    {
     "name": "stdout",
     "output_type": "stream",
     "text": [
      "0 1\n"
     ]
    },
    {
     "data": {
      "application/papermill.record/image/png": "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\n",
      "application/papermill.record/text/plain": "<Figure size 72x72 with 1 Axes>"
     },
     "metadata": {
      "scrapbook": {
       "mime_prefix": "application/papermill.record/",
       "name": "quad-0-1"
      }
     },
     "output_type": "display_data"
    },
    {
     "name": "stdout",
     "output_type": "stream",
     "text": [
      "1 0\n"
     ]
    },
    {
     "data": {
      "application/papermill.record/image/png": "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\n",
      "application/papermill.record/text/plain": "<Figure size 72x72 with 1 Axes>"
     },
     "metadata": {
      "scrapbook": {
       "mime_prefix": "application/papermill.record/",
       "name": "quad-1-0"
      }
     },
     "output_type": "display_data"
    },
    {
     "name": "stdout",
     "output_type": "stream",
     "text": [
      "1 1\n"
     ]
    },
    {
     "data": {
      "application/papermill.record/image/png": "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\n",
      "application/papermill.record/text/plain": "<Figure size 72x72 with 1 Axes>"
     },
     "metadata": {
      "scrapbook": {
       "mime_prefix": "application/papermill.record/",
       "name": "quad-1-1"
      }
     },
     "output_type": "display_data"
    },
    {
     "name": "stdout",
     "output_type": "stream",
     "text": [
      "2 0\n"
     ]
    },
    {
     "data": {
      "application/papermill.record/image/png": "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\n",
      "application/papermill.record/text/plain": "<Figure size 72x72 with 1 Axes>"
     },
     "metadata": {
      "scrapbook": {
       "mime_prefix": "application/papermill.record/",
       "name": "quad-2-0"
      }
     },
     "output_type": "display_data"
    },
    {
     "name": "stdout",
     "output_type": "stream",
     "text": [
      "2 1\n"
     ]
    },
    {
     "data": {
      "application/papermill.record/image/png": "iVBORw0KGgoAAAANSUhEUgAAAEYAAABECAYAAAA85kOPAAAAOXRFWHRTb2Z0d2FyZQBNYXRwbG90bGliIHZlcnNpb24zLjMuMiwgaHR0cHM6Ly9tYXRwbG90bGliLm9yZy8vihELAAAACXBIWXMAAAsTAAALEwEAmpwYAAAIB0lEQVR4nO2bW2wU1xmAv5mdvXntGF+BxQZiDDZxIQVDWwGiW4yRgUAlBG1pJF5QFdGo4hLCRY2qNlGFsShSIlXhBaK2VCCggcJaFDBgLwqgAhWo3Iov3AoOtqkDeI13dmemD+biFI/nrHd9Ubrf6/nPOf98PjNzjudfyTAMEryKPNAJDFYSYkxIiDEhIcaEhBgTFIv2b/orSzJrsBLTLbcbbnK7voGIppGekcG3Jr2JovRqqLhjGAZ6ax168EvAQErKxpY+DkmK7uaI6mounP07e//4Z5ofNCFJYBggyzKyLDH7rXn88MeLcTgcUSUQLwzDIHw3QLjOjxEO8nKxy0iKE/uYedhHzRIWJFls8F40Hti9l0N7/4IaUrsNtDvsjMjN5ZflH+Fyu8WuJk4YhkHo0nYiDy6A1n1+yA5sWUW4Jv+8qxzTW0lI37nTZzm093NTKQBhNcy9u3f5fcVWkSHjilpf2bMUAF1Fa7mCen2f0JhCYvb8YSdqKGQZF1bDXLn0Tx7cbxSaPB4YWphw/eGepTxHUwnfPokReWoZaimmobaO1paHQkkC6LrGkYOVwvGxEnnwD6J6eUoS4XtnLcMsH74NtXVEc9DUIhqVfz3Ijt07hfvEwjslGSwoHiLeQQuh/acWRv2gxzDLFaOFI+hRnsBNn2h9gF3pxWy69W1nuWLSMtJRFIVIOCw87+SpU1j34a+E42MhVOcnXHsQDE2wh4yclCUQZcGbU4oxDF1wUnC53cyeXyYcHyv2Ed8DKYpVI9tQcmZYh1kFOF1OZs4uQbHbhea12+18e0qxUGw8kN2Z2NLyQWjjJiEne7GljLAeV2TyJcveJjM7y3Lb73A6WfXBemSbTWTYuOGcuByUJHp+ukmguHBNekdoTOGdb7Ctja0fbuJWfT2RcARdf3l7udwubIrC6g82UlA0XmjieKO3t/D03FaMjq9A+589l82J5EjGPXUNcvKwri2mJoXFPOd2w03+duAQJ6uOAzBh4gTmLJjPpO9OHfCDZOcB8gbqzWPca7mBBHjTx2B/vRRbRmF356T4iXmOz+cDoLq6WjTvfmXxBT8A+4rf6ikstrPS/yMJMSYkxJiQEGNCQowJCTEmJMSYkBBjQkKMCQkxJgwaMV81NnLz3LmBTuMFg0KMEQzS8P77tG/ZwvXLlwc6HWAQiNGfPKGtooI8l4uPrl7l+yUlXB4EcgZUjP7oEcHNm9EbG/GsXMlv9u1DURR8Ph8XL14cyNQGToze2toppbkZz6pV2CdMoKCggJqaGpKSkpg1axbnz58fqPQGRoz+8CHB8nL01lY8a9agvPHGi7b8/HwCgQCpqamUlJRw5syZgUix/8XoLS20bd6M/uQJnvfeQykoeCVm9OjRBAIBsrOzmTNnDqdOnervNPtXjNbURFt5OUYwiGftWpT8fNPY3NxcampqyMnJoaysjBMnTvRjpv0oRmtsJLhpE4RCJK9fj5KXZ9nH6/VSXV1NXl4e8+fP58iRI/2QaSf9Ika7d49geTnoOp7167GNHCncd+jQoZw8eZLCwkIWLlyI3+/vw0xf0uditDt3OqXIcqeUnJyox8jMzOT48eNMnDiRRYsWsX///j7I9Ov0qRjt1i2CFRVgt3dK8Xp7PVZ6ejpVVVUUFxezZMkS9uzZE8dMX6XPxETq62mrqACXi+SNG7ENG2bdyYLU1FSOHj3KtGnTWLp0KTt39l2pSZ+Iidy4QXDLFuSUFJI3bkTOsq4uECUlJYXDhw/j8/lYtmwZO3bsiNvYXYlajBEOo54+zc/S01mRkUFHZSV6a+uL9sj16wS3bkUeMgTPhg3IGRlxTRjA4/Hg9/spLS1l+fLlbNu27UXb44jKn/59jYb2RzS0P+Kzu1doDXdEPYfwl0hD1wkdPEjo+Suz49lkzz7LKuPHY58xg6fbtyNnZuJZtw45NTXqhKKho6ODxYsXU1lZye8++Zim0snsa6xFRqJdjwDglm3owILs1/ltwXQ8yteqNmL7RGsYBu2ffkrk0iVQTaqRnhX+SsOHk7xhA/Jrr0V3lb1EVVV+9PZPOe0rwD1uNJrc/bU6JZlRSakcmrKwq5zYPtGqVVU9S4HOamhAstn6TQqAw+Fg7K9/gWvMSFMpACFD53b7Y9ZeCwiNaynG0HVCfn/PUrqgNzcTaWgQio0HjyMqnzc1oNuta3JChsbRljs0h9otY62LE69dwxCUAoCqoh47Jh4fIwe+rEOOphzSgN33b1iGWRa0aI2NoIkW/gGGQW0gwMpdu8T7xEDT3O/wdMo44fiQoXG1zbpuuU/2Mf1ZztobdIGCacsVI2dng80GouWsksSYadOofvddsfgY2X7nMpvqz9Ghi61qhyRT4EmzjLNcMUpREVI0xYYOB87SUvH4GFk0PD+qX5tJksRPvIWWcZZiJJsNR1kZiPwOSZKQ09KwjR0rlGQ8SLO7mJc1Gqdk/cdzSDIz0rx4XR7LWKFnjHPuXJSxY3uWI0ngdpO0ejVSNAXJcWBT4XRGulN6lOOQZIY6k/i4yCc0pviRIBKhY/du1ECgU8LzV7gsg82GLTeXpBUrkDMzhSaON20RldVXA5x4eBeMzrcPdAqRJInpaV4+KfIxxO7s2i1+VZtGezvqF1+g1dVhRCLIWVk4Zs6M6X8t8aQp1M6u+//iattDDAMKktNY6i3A60ruLjz+5azfEHr9K9rBviXpMwb82/VgJSHGhIQYExJiTEiIMSEhxoT/Amc8vPkccUm1AAAAAElFTkSuQmCC\n",
      "application/papermill.record/text/plain": "<Figure size 72x72 with 1 Axes>"
     },
     "metadata": {
      "scrapbook": {
       "mime_prefix": "application/papermill.record/",
       "name": "quad-2-1"
      }
     },
     "output_type": "display_data"
    },
    {
     "name": "stdout",
     "output_type": "stream",
     "text": [
      "3 0\n"
     ]
    },
    {
     "data": {
      "application/papermill.record/image/png": "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\n",
      "application/papermill.record/text/plain": "<Figure size 72x72 with 1 Axes>"
     },
     "metadata": {
      "scrapbook": {
       "mime_prefix": "application/papermill.record/",
       "name": "quad-3-0"
      }
     },
     "output_type": "display_data"
    },
    {
     "name": "stdout",
     "output_type": "stream",
     "text": [
      "3 1\n"
     ]
    },
    {
     "data": {
      "application/papermill.record/image/png": "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\n",
      "application/papermill.record/text/plain": "<Figure size 72x72 with 1 Axes>"
     },
     "metadata": {
      "scrapbook": {
       "mime_prefix": "application/papermill.record/",
       "name": "quad-3-1"
      }
     },
     "output_type": "display_data"
    },
    {
     "data": {
      "image/png": "[encoded data removed]",
      "text/plain": [
       "<Figure size 72x72 with 1 Axes>"
      ]
     },
     "metadata": {},
     "output_type": "display_data"
    },
    {
     "data": {
      "image/png": "[encoded data removed]",
      "text/plain": [
       "<Figure size 72x72 with 1 Axes>"
      ]
     },
     "metadata": {},
     "output_type": "display_data"
    },
    {
     "data": {
      "image/png": "[encoded data removed]",
      "text/plain": [
       "<Figure size 72x72 with 1 Axes>"
      ]
     },
     "metadata": {},
     "output_type": "display_data"
    },
    {
     "data": {
      "image/png": "[encoded data removed]",
      "text/plain": [
       "<Figure size 72x72 with 1 Axes>"
      ]
     },
     "metadata": {},
     "output_type": "display_data"
    },
    {
     "data": {
      "image/png": "[encoded data removed]",
      "text/plain": [
       "<Figure size 72x72 with 1 Axes>"
      ]
     },
     "metadata": {},
     "output_type": "display_data"
    },
    {
     "data": {
      "image/png": "[encoded data removed]",
      "text/plain": [
       "<Figure size 72x72 with 1 Axes>"
      ]
     },
     "metadata": {},
     "output_type": "display_data"
    },
    {
     "data": {
      "image/png": "[encoded data removed]",
      "text/plain": [
       "<Figure size 72x72 with 1 Axes>"
      ]
     },
     "metadata": {},
     "output_type": "display_data"
    },
    {
     "data": {
      "image/png": "[encoded data removed]",
      "text/plain": [
       "<Figure size 72x72 with 1 Axes>"
      ]
     },
     "metadata": {},
     "output_type": "display_data"
    },
    {
     "data": {
      "image/png": "[encoded data removed]",
      "text/plain": [
       "<Figure size 72x72 with 1 Axes>"
      ]
     },
     "metadata": {},
     "output_type": "display_data"
    },
    {
     "data": {
      "image/png": "[encoded data removed]",
      "text/plain": [
       "<Figure size 72x72 with 1 Axes>"
      ]
     },
     "metadata": {},
     "output_type": "display_data"
    },
    {
     "data": {
      "image/png": "[encoded data removed]",
      "text/plain": [
       "<Figure size 72x72 with 1 Axes>"
      ]
     },
     "metadata": {},
     "output_type": "display_data"
    },
    {
     "data": {
      "image/png": "[encoded data removed]",
      "text/plain": [
       "<Figure size 72x72 with 1 Axes>"
      ]
     },
     "metadata": {},
     "output_type": "display_data"
    },
    {
     "data": {
      "image/png": "[encoded data removed]",
      "text/plain": [
       "<Figure size 72x72 with 1 Axes>"
      ]
     },
     "metadata": {},
     "output_type": "display_data"
    },
    {
     "data": {
      "image/png": "[encoded data removed]",
      "text/plain": [
       "<Figure size 72x72 with 1 Axes>"
      ]
     },
     "metadata": {},
     "output_type": "display_data"
    },
    {
     "data": {
      "image/png": "[encoded data removed]",
      "text/plain": [
       "<Figure size 72x72 with 1 Axes>"
      ]
     },
     "metadata": {},
     "output_type": "display_data"
    }
   ],
   "source": [
    "from myst_nb import glue\n",
    "\n",
    "def hexico(rot):\n",
    "    cmap = plt.get_cmap('Set2')        \n",
    "    colors = [cmap(i / 6) for i in range(6)]\n",
    "    points = np.array([(0,1), (0.5 * np.sqrt(3), 0.5), (0.5 * np.sqrt(3), -0.5), (0, -1), (-0.5 * np.sqrt(3), -0.5), (-0.5 * np.sqrt(3), 0.5)])\n",
    "    # wrap the points\n",
    "    index = [(i + rot) % 6 for i in range(6)]\n",
    "    points = points[index]\n",
    "    plt.figure(figsize=(1, 1))        \n",
    "    if rot == 6:\n",
    "        plt.scatter(points[:,0], points[:,1], marker='.', color='black', s=150)\n",
    "    else:\n",
    "        plt.scatter(points[:,0], points[:,1], marker='o', c=colors, s=150)\n",
    "        plt.plot([0, points[0,0]], [0, points[0, 1]], color='black', zorder=0)    \n",
    "        \n",
    "    plt.plot(points[:, 0], points[:, 1], color='black', zorder=0)\n",
    "    plt.plot([points[-1, 0], points[0, 0]],  [points[-1, 1], points[0, 1]], color='black', zorder=0)\n",
    "    plt.xticks([])\n",
    "    plt.yticks([])\n",
    "    plt.xlim(-1.4, 1.4)\n",
    "    plt.ylim(-1.4, 1.4)    \n",
    "    for s in plt.gca().spines.values():\n",
    "        s.set_visible(False)\n",
    "    glue(f'hex-{rot}', plt.gcf(), display=False)\n",
    "for i in range(7):\n",
    "    hexico(i)\n",
    "    \n",
    "def quad(rot, mirror):\n",
    "    colors = color_cycle[:4]\n",
    "    points = np.array([(1, 1), (-1, 1), (-1, -1), (1, -1)])\n",
    "    if mirror:\n",
    "        points[:,0] *= -1\n",
    "    # wrap the points\n",
    "    index = [(i + rot) % 4 for i in range(4)]\n",
    "    points = points[index]\n",
    "    plt.figure(figsize=(1, 1))        \n",
    "    plt.scatter(points[:,0], points[:,1], marker='o', c=colors, s=150)\n",
    "    plt.plot([0, points[0,0]], [0, points[0, 1]], color='black', zorder=0)    \n",
    "        \n",
    "    plt.plot(points[:, 0], points[:, 1], color='black', zorder=0)\n",
    "    plt.plot([points[-1, 0], points[0, 0]],  [points[-1, 1], points[0, 1]], color='C0', zorder=0)\n",
    "    plt.plot([0, points[1, 0]],  [0, points[1, 1]], linestyle='-', color='C1', zorder=0)\n",
    "    plt.xticks([])\n",
    "    plt.yticks([])\n",
    "    plt.xlim(-1.4, 1.4)\n",
    "    plt.ylim(-1.4, 1.4)    \n",
    "    for s in plt.gca().spines.values():\n",
    "        s.set_visible(False)\n",
    "    print(rot, mirror)\n",
    "    glue(f'quad-{rot}-{mirror}', plt.gcf(), display=False)\n",
    "for i in range(4):\n",
    "    for j in range(2):\n",
    "        quad(i, j)"
   ]
  },
  {
   "cell_type": "code",
   "execution_count": 19,
   "metadata": {
    "tags": [
     "remove-cell"
    ]
   },
   "outputs": [
    {
     "data": {
      "image/png": "[encoded data removed]",
      "text/plain": [
       "<Figure size 72x72 with 1 Axes>"
      ]
     },
     "metadata": {},
     "output_type": "display_data"
    }
   ],
   "source": [
    "colors = color_cycle[:4]\n",
    "points = np.array([(1, 1), (-1, 1), (-1, -1), (1, -1)])\n",
    "index = range(4)\n",
    "points = points[index]\n",
    "plt.figure(figsize=(1, 1))        \n",
    "plt.scatter(points[:,0], points[:,1], marker='o', c=colors, s=150)\n",
    "plt.plot([0, points[0,0]], [0, points[0, 1]], color='black', zorder=0)    \n",
    "\n",
    "plt.plot(points[:, 0], points[:, 1], color='black', zorder=0)\n",
    "plt.plot([points[-1, 0], points[0, 0]],  [points[-1, 1], points[0, 1]], color='C0', zorder=0)\n",
    "plt.plot([0, points[1, 0]],  [0, points[1, 1]], linestyle='-', color='C1', zorder=0)\n",
    "plt.xticks([])\n",
    "plt.yticks([])\n",
    "plt.xlim(-1.4, 1.4)\n",
    "plt.ylim(-1.4, 1.4)    \n",
    "for s in plt.gca().spines.values():\n",
    "    s.set_visible(False)\n",
    "plt.savefig('quad.svg')"
   ]
  },
  {
   "cell_type": "markdown",
   "metadata": {},
   "source": [
    "## Cited References\n",
    "\n",
    "```{bibliography}\n",
    ":style: unsrtalpha\n",
    ":filter: docname in docnames\n",
    "```"
   ]
  },
  {
   "cell_type": "code",
   "execution_count": null,
   "metadata": {},
   "outputs": [],
   "source": []
  }
 ],
 "metadata": {
  "celltoolbar": "Tags",
  "kernelspec": {
   "display_name": "Python 3",
   "language": "python",
   "name": "python3"
  },
  "language_info": {
   "codemirror_mode": {
    "name": "ipython",
    "version": 3
   },
   "file_extension": ".py",
   "mimetype": "text/x-python",
   "name": "python",
   "nbconvert_exporter": "python",
   "pygments_lexer": "ipython3",
   "version": "3.7.8"
  }
 },
 "nbformat": 4,
 "nbformat_minor": 4
}
